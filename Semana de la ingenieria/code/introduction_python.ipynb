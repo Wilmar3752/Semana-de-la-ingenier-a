{
 "cells": [
  {
   "cell_type": "markdown",
   "metadata": {},
   "source": [
    "# Introducción a Python para análisis de datos\n",
    "## Semana de la ingeniería\n",
    "### By: Wilmar Sepulveda Herrera\n",
    "### Estadístico, estudiante de maestría en estadística, Data scientist"
   ]
  },
  {
   "cell_type": "markdown",
   "metadata": {},
   "source": [
    "## 1) Descarga e instalacion\n",
    "Para descargar python y jupyter notebook, la manera mas sencilla es descargar **Anaconda**\n",
    "\n",
    "https://www.anaconda.com/products/individual"
   ]
  },
  {
   "cell_type": "markdown",
   "metadata": {},
   "source": [
    "## 2) Expresiones y variables en python"
   ]
  },
  {
   "cell_type": "markdown",
   "metadata": {},
   "source": [
    "Las expresiones en Python pueden incluir operaciones entre tipos compatibles (por ejemplo, enteros y flotantes). Por ejemplo, operaciones aritméticas básicas como la suma de varios números:"
   ]
  },
  {
   "cell_type": "markdown",
   "metadata": {},
   "source": [
    "### 2.1) Operaciones"
   ]
  },
  {
   "cell_type": "code",
   "execution_count": 1,
   "metadata": {},
   "outputs": [
    {
     "data": {
      "text/plain": [
       "160"
      ]
     },
     "execution_count": 1,
     "metadata": {},
     "output_type": "execute_result"
    }
   ],
   "source": [
    "# Addition operation expression\n",
    "\n",
    "43 + 60 + 16 + 41"
   ]
  },
  {
   "cell_type": "code",
   "execution_count": 2,
   "metadata": {},
   "outputs": [
    {
     "data": {
      "text/plain": [
       "25"
      ]
     },
     "execution_count": 2,
     "metadata": {},
     "output_type": "execute_result"
    }
   ],
   "source": [
    "# Multiplication operation expression\n",
    "\n",
    "5 * 5"
   ]
  },
  {
   "cell_type": "code",
   "execution_count": 3,
   "metadata": {},
   "outputs": [
    {
     "data": {
      "text/plain": [
       "5.0"
      ]
     },
     "execution_count": 3,
     "metadata": {},
     "output_type": "execute_result"
    }
   ],
   "source": [
    "# Division operation expression\n",
    "\n",
    "25 / 5"
   ]
  },
  {
   "cell_type": "code",
   "execution_count": 4,
   "metadata": {},
   "outputs": [
    {
     "data": {
      "text/plain": [
       "4.166666666666667"
      ]
     },
     "execution_count": 4,
     "metadata": {},
     "output_type": "execute_result"
    }
   ],
   "source": [
    "# Division operation expression\n",
    "\n",
    "25 / 6"
   ]
  },
  {
   "cell_type": "code",
   "execution_count": 5,
   "metadata": {},
   "outputs": [
    {
     "data": {
      "text/plain": [
       "5"
      ]
     },
     "execution_count": 5,
     "metadata": {},
     "output_type": "execute_result"
    }
   ],
   "source": [
    "# Integer division operation expression\n",
    "\n",
    "25 // 5"
   ]
  },
  {
   "cell_type": "code",
   "execution_count": 6,
   "metadata": {},
   "outputs": [
    {
     "data": {
      "text/plain": [
       "4"
      ]
     },
     "execution_count": 6,
     "metadata": {},
     "output_type": "execute_result"
    }
   ],
   "source": [
    "# Integer division operation expression\n",
    "\n",
    "25 // 6"
   ]
  },
  {
   "cell_type": "markdown",
   "metadata": {},
   "source": [
    "### 2.2) Variables"
   ]
  },
  {
   "cell_type": "code",
   "execution_count": 7,
   "metadata": {},
   "outputs": [],
   "source": [
    "# Store value into variable\n",
    "\n",
    "x = 43 + 60 + 16 + 41"
   ]
  },
  {
   "cell_type": "code",
   "execution_count": 8,
   "metadata": {},
   "outputs": [
    {
     "data": {
      "text/plain": [
       "160"
      ]
     },
     "execution_count": 8,
     "metadata": {},
     "output_type": "execute_result"
    }
   ],
   "source": [
    "x"
   ]
  },
  {
   "cell_type": "code",
   "execution_count": 9,
   "metadata": {},
   "outputs": [
    {
     "data": {
      "text/plain": [
       "10"
      ]
     },
     "execution_count": 9,
     "metadata": {},
     "output_type": "execute_result"
    }
   ],
   "source": [
    "y = (3 + 2) * 2\n",
    "y"
   ]
  },
  {
   "cell_type": "code",
   "execution_count": 10,
   "metadata": {},
   "outputs": [
    {
     "data": {
      "text/plain": [
       "170"
      ]
     },
     "execution_count": 10,
     "metadata": {},
     "output_type": "execute_result"
    }
   ],
   "source": [
    "z = x + y\n",
    "z"
   ]
  },
  {
   "cell_type": "markdown",
   "metadata": {},
   "source": [
    "### 2.3) Operaciones con Strings"
   ]
  },
  {
   "cell_type": "code",
   "execution_count": 11,
   "metadata": {},
   "outputs": [
    {
     "data": {
      "text/plain": [
       "'Michael Jackson'"
      ]
     },
     "execution_count": 11,
     "metadata": {},
     "output_type": "execute_result"
    }
   ],
   "source": [
    "# Use quotation marks for defining string\n",
    "\n",
    "\"Michael Jackson\""
   ]
  },
  {
   "cell_type": "code",
   "execution_count": 12,
   "metadata": {},
   "outputs": [
    {
     "data": {
      "text/plain": [
       "'Michael Jackson'"
      ]
     },
     "execution_count": 12,
     "metadata": {},
     "output_type": "execute_result"
    }
   ],
   "source": [
    "# Assign string to variable\n",
    "\n",
    "Name = \"Michael Jackson\"\n",
    "Name"
   ]
  },
  {
   "cell_type": "markdown",
   "metadata": {},
   "source": [
    "   ![Indexacion](../images/strings.png)"
   ]
  },
  {
   "cell_type": "code",
   "execution_count": 13,
   "metadata": {},
   "outputs": [
    {
     "data": {
      "text/plain": [
       "'M'"
      ]
     },
     "execution_count": 13,
     "metadata": {},
     "output_type": "execute_result"
    }
   ],
   "source": [
    "Name[0]"
   ]
  },
  {
   "cell_type": "code",
   "execution_count": 14,
   "metadata": {},
   "outputs": [
    {
     "data": {
      "text/plain": [
       "'n'"
      ]
     },
     "execution_count": 14,
     "metadata": {},
     "output_type": "execute_result"
    }
   ],
   "source": [
    "Name[-1]"
   ]
  },
  {
   "cell_type": "code",
   "execution_count": 15,
   "metadata": {},
   "outputs": [
    {
     "data": {
      "text/plain": [
       "'Michael Ja'"
      ]
     },
     "execution_count": 15,
     "metadata": {},
     "output_type": "execute_result"
    }
   ],
   "source": [
    "Name[0:10]"
   ]
  },
  {
   "cell_type": "code",
   "execution_count": 16,
   "metadata": {},
   "outputs": [
    {
     "data": {
      "text/plain": [
       "'Michael Jackson Ayuwoki'"
      ]
     },
     "execution_count": 16,
     "metadata": {},
     "output_type": "execute_result"
    }
   ],
   "source": [
    "Name = Name + \" Ayuwoki\"\n",
    "Name"
   ]
  },
  {
   "cell_type": "code",
   "execution_count": 17,
   "metadata": {},
   "outputs": [
    {
     "data": {
      "text/plain": [
       "'Michael Jackson AyuwokiMichael Jackson AyuwokiMichael Jackson Ayuwoki'"
      ]
     },
     "execution_count": 17,
     "metadata": {},
     "output_type": "execute_result"
    }
   ],
   "source": [
    "3*Name"
   ]
  },
  {
   "cell_type": "markdown",
   "metadata": {},
   "source": [
    "### 3) Estructuras de datos"
   ]
  },
  {
   "cell_type": "markdown",
   "metadata": {},
   "source": [
    "#### 3.1) Tuples: \n",
    "En Python, existen diferentes tipos de datos: string, integer y float. Todos estos tipos de datos pueden estar contenidos en una tupla de la siguiente manera:"
   ]
  },
  {
   "cell_type": "code",
   "execution_count": 18,
   "metadata": {},
   "outputs": [
    {
     "data": {
      "text/plain": [
       "('disco', 10, 1.2)"
      ]
     },
     "execution_count": 18,
     "metadata": {},
     "output_type": "execute_result"
    }
   ],
   "source": [
    "# Create your first tuple\n",
    "\n",
    "tuple1 = (\"disco\",10,1.2 )\n",
    "tuple1"
   ]
  },
  {
   "cell_type": "code",
   "execution_count": 19,
   "metadata": {},
   "outputs": [
    {
     "data": {
      "text/plain": [
       "tuple"
      ]
     },
     "execution_count": 19,
     "metadata": {},
     "output_type": "execute_result"
    }
   ],
   "source": [
    "type(tuple1)"
   ]
  },
  {
   "cell_type": "markdown",
   "metadata": {},
   "source": [
    "El contenido de las tuplas no puede ser modificado"
   ]
  },
  {
   "cell_type": "code",
   "execution_count": 20,
   "metadata": {},
   "outputs": [
    {
     "ename": "TypeError",
     "evalue": "'tuple' object does not support item assignment",
     "output_type": "error",
     "traceback": [
      "\u001b[1;31m---------------------------------------------------------------------------\u001b[0m",
      "\u001b[1;31mTypeError\u001b[0m                                 Traceback (most recent call last)",
      "\u001b[1;32m<ipython-input-20-9bb4fed1a9ff>\u001b[0m in \u001b[0;36m<module>\u001b[1;34m\u001b[0m\n\u001b[1;32m----> 1\u001b[1;33m \u001b[0mtuple1\u001b[0m\u001b[1;33m[\u001b[0m\u001b[1;36m0\u001b[0m\u001b[1;33m]\u001b[0m \u001b[1;33m=\u001b[0m \u001b[1;34m'wilmar'\u001b[0m\u001b[1;33m\u001b[0m\u001b[1;33m\u001b[0m\u001b[0m\n\u001b[0m",
      "\u001b[1;31mTypeError\u001b[0m: 'tuple' object does not support item assignment"
     ]
    }
   ],
   "source": [
    "tuple1[0] = 'wilmar'"
   ]
  },
  {
   "cell_type": "markdown",
   "metadata": {},
   "source": [
    "#### 3.2) Lists:\n",
    "Una lista es una colección secuenciada de diferentes objetos como enteros, cadenas y otras listas también. La dirección de cada elemento dentro de una lista se llama índice. Un índice se utiliza para acceder y referirse a los elementos dentro de una lista."
   ]
  },
  {
   "cell_type": "code",
   "execution_count": null,
   "metadata": {},
   "outputs": [],
   "source": [
    "# Create your first list\n",
    "\n",
    "list1 = [\"disco\",10,1.2]\n",
    "list1"
   ]
  },
  {
   "cell_type": "code",
   "execution_count": null,
   "metadata": {},
   "outputs": [],
   "source": [
    "list1[0] = 'wilmar'\n",
    "list1\n"
   ]
  },
  {
   "cell_type": "markdown",
   "metadata": {},
   "source": [
    "#### Listas comprimidas"
   ]
  },
  {
   "cell_type": "code",
   "execution_count": 21,
   "metadata": {},
   "outputs": [
    {
     "data": {
      "text/plain": [
       "[0, 1, 2, 3, 4, 5, 6, 7, 8, 9]"
      ]
     },
     "execution_count": 21,
     "metadata": {},
     "output_type": "execute_result"
    }
   ],
   "source": [
    "comp_list = [i for i in range(10)]\n",
    "comp_list"
   ]
  },
  {
   "cell_type": "markdown",
   "metadata": {},
   "source": [
    "#### 3.3) Dictionaries:\n",
    "Un diccionario está formado por claves y valores. Es útil comparar un diccionario con una lista. En lugar de los índices numéricos de una lista, los diccionarios tienen claves. Estas claves son las que se utilizan para acceder a los valores dentro de un diccionario.\n",
    "\n",
    "   ![Indexacion](../images/DictsList.png)"
   ]
  },
  {
   "cell_type": "code",
   "execution_count": 22,
   "metadata": {},
   "outputs": [
    {
     "data": {
      "text/plain": [
       "{'key1': 1,\n",
       " 'key2': '2',\n",
       " 'key3': [3, 3, 3],\n",
       " 'key4': (4, 4, 4),\n",
       " 'key5': 5,\n",
       " (0, 1): 6}"
      ]
     },
     "execution_count": 22,
     "metadata": {},
     "output_type": "execute_result"
    }
   ],
   "source": [
    "# Create the dictionary\n",
    "\n",
    "Dict = {\"key1\": 1, \"key2\": \"2\", \"key3\": [3, 3, 3], \"key4\": (4, 4, 4), ('key5'): 5, (0, 1): 6}\n",
    "Dict"
   ]
  },
  {
   "cell_type": "code",
   "execution_count": 23,
   "metadata": {},
   "outputs": [
    {
     "ename": "KeyError",
     "evalue": "0",
     "output_type": "error",
     "traceback": [
      "\u001b[1;31m---------------------------------------------------------------------------\u001b[0m",
      "\u001b[1;31mKeyError\u001b[0m                                  Traceback (most recent call last)",
      "\u001b[1;32m<ipython-input-23-b1ad407e6102>\u001b[0m in \u001b[0;36m<module>\u001b[1;34m\u001b[0m\n\u001b[0;32m      1\u001b[0m \u001b[1;31m##Error, no llamar index\u001b[0m\u001b[1;33m\u001b[0m\u001b[1;33m\u001b[0m\u001b[1;33m\u001b[0m\u001b[0m\n\u001b[1;32m----> 2\u001b[1;33m \u001b[0mDict\u001b[0m\u001b[1;33m[\u001b[0m\u001b[1;36m0\u001b[0m\u001b[1;33m]\u001b[0m\u001b[1;33m\u001b[0m\u001b[1;33m\u001b[0m\u001b[0m\n\u001b[0m",
      "\u001b[1;31mKeyError\u001b[0m: 0"
     ]
    }
   ],
   "source": [
    "##Error, no llamar index\n",
    "Dict[0]"
   ]
  },
  {
   "cell_type": "code",
   "execution_count": 24,
   "metadata": {},
   "outputs": [
    {
     "data": {
      "text/plain": [
       "[3, 3, 3]"
      ]
     },
     "execution_count": 24,
     "metadata": {},
     "output_type": "execute_result"
    }
   ],
   "source": [
    "Dict['key3']\n"
   ]
  },
  {
   "cell_type": "markdown",
   "metadata": {},
   "source": [
    "### 4) Librería para data analysis: Pandas\n",
    "\n",
    "Una de las cosas más mágicas de R es su capacidad para manejar matrices de datos utilizando el objeto data frame (o tibble en el Tidyverse). La biblioteca pandas ofrece a Python una funcionalidad muy parecida.\n",
    "\n",
    "Recordemos que un Data Frame es un objeto formado por filas y columnas (como una hoja de cálculo o una tabla de base de datos). Además de almacenar los datos, el objeto Data Frame también tiene propiedades y métodos útiles a los que se puede acceder mediante código. Así, el primer paso en el análisis de datos es cargar los datos de un archivo en un objeto de marco de datos.\n",
    "\n",
    "Una biblioteca de Python contiene cosas (objetos, código) que no forman parte del núcleo del lenguaje Python pero que, sin embargo, son útiles para alguna comunidad de usuarios. Las bibliotecas nos evitan reinventar la rueda: Una vez que alguien ha creado una biblioteca y la ha puesto a disposición para su descarga, podemos utilizar el contenido de la biblioteca en nuestros propios programas de Python.\n",
    "\n",
    "Por ejemplo, para utilizar el objeto pandas.DataFrame en nuestros programas, primero debemos importar la biblioteca **Pandas** a nuestro entorno.\n"
   ]
  },
  {
   "cell_type": "code",
   "execution_count": 5,
   "metadata": {},
   "outputs": [],
   "source": [
    "import pandas as pd"
   ]
  },
  {
   "cell_type": "markdown",
   "metadata": {},
   "source": [
    "* Los scripts escritos con `pandas` a menudo se ejecutan más rápido que los scripts escritos en Python puro.\n",
    "* Los scripts escritos con `pandas` suelen contener muchas menos líneas de código que el script equivalente escrito en Python puro.\n",
    "\n",
    "En el núcleo de la biblioteca ``pandas`` hay dos estructuras de datos/objetos fundamentales:\n",
    "1. [Series](https://pandas.pydata.org/pandas-docs/stable/reference/api/pandas.Series.html)\n",
    "2. [DataFrame](https://pandas.pydata.org/pandas-docs/stable/reference/api/pandas.DataFrame.html)\n",
    "\n",
    "Un objeto ``Series`` almacena datos de una sola columna junto con un **índice**. Un índice es sólo una forma de \"numerar\" el objeto ``Series``"
   ]
  },
  {
   "cell_type": "markdown",
   "metadata": {},
   "source": [
    "Un objeto ``DataFrame`` es una estructura de datos tabular bidimensional con ejes etiquetados. Es conceptualmente útil pensar en un objeto DataFrame como una colección de objetos Series. Es decir, piense en cada columna de un DataFrame como un único objeto Serie, donde cada uno de estos objetos Serie comparte un índice común - el índice del objeto DataFrame.\n",
    "\n",
    "A continuación se muestra la sintaxis para crear un objeto Serie, seguida de la sintaxis para crear un objeto DataFrame. Tenga en cuenta que los objetos DataFrame también pueden tener una sola columna - piense en esto como un DataFrame que consiste en un solo objeto Serie:"
   ]
  },
  {
   "cell_type": "code",
   "execution_count": 6,
   "metadata": {},
   "outputs": [
    {
     "data": {
      "text/plain": [
       "0     1000\n",
       "1     2600\n",
       "2     1524\n",
       "3    98000\n",
       "Name: Volume, dtype: int64"
      ]
     },
     "execution_count": 6,
     "metadata": {},
     "output_type": "execute_result"
    }
   ],
   "source": [
    "# Create a simple Series object\n",
    "simple_series = pd.Series(\n",
    "    index=[0, 1, 2, 3], name=\"Volume\", data=[1000, 2600, 1524, 98000]\n",
    ")\n",
    "simple_series"
   ]
  },
  {
   "cell_type": "code",
   "execution_count": 7,
   "metadata": {},
   "outputs": [
    {
     "data": {
      "text/html": [
       "<div>\n",
       "<style scoped>\n",
       "    .dataframe tbody tr th:only-of-type {\n",
       "        vertical-align: middle;\n",
       "    }\n",
       "\n",
       "    .dataframe tbody tr th {\n",
       "        vertical-align: top;\n",
       "    }\n",
       "\n",
       "    .dataframe thead th {\n",
       "        text-align: right;\n",
       "    }\n",
       "</style>\n",
       "<table border=\"1\" class=\"dataframe\">\n",
       "  <thead>\n",
       "    <tr style=\"text-align: right;\">\n",
       "      <th></th>\n",
       "      <th>Volume</th>\n",
       "    </tr>\n",
       "  </thead>\n",
       "  <tbody>\n",
       "    <tr>\n",
       "      <th>0</th>\n",
       "      <td>1000</td>\n",
       "    </tr>\n",
       "    <tr>\n",
       "      <th>1</th>\n",
       "      <td>2600</td>\n",
       "    </tr>\n",
       "    <tr>\n",
       "      <th>2</th>\n",
       "      <td>1524</td>\n",
       "    </tr>\n",
       "    <tr>\n",
       "      <th>3</th>\n",
       "      <td>98000</td>\n",
       "    </tr>\n",
       "  </tbody>\n",
       "</table>\n",
       "</div>"
      ],
      "text/plain": [
       "   Volume\n",
       "0    1000\n",
       "1    2600\n",
       "2    1524\n",
       "3   98000"
      ]
     },
     "execution_count": 7,
     "metadata": {},
     "output_type": "execute_result"
    }
   ],
   "source": [
    "# Create a simple DataFrame object\n",
    "simple_df = pd.DataFrame(\n",
    "    index=[0, 1, 2, 3], columns=[\"Volume\"], data=[1000, 2600, 1524, 98000]\n",
    ")\n",
    "simple_df"
   ]
  },
  {
   "cell_type": "code",
   "execution_count": 8,
   "metadata": {},
   "outputs": [
    {
     "data": {
      "text/html": [
       "<div>\n",
       "<style scoped>\n",
       "    .dataframe tbody tr th:only-of-type {\n",
       "        vertical-align: middle;\n",
       "    }\n",
       "\n",
       "    .dataframe tbody tr th {\n",
       "        vertical-align: top;\n",
       "    }\n",
       "\n",
       "    .dataframe thead th {\n",
       "        text-align: right;\n",
       "    }\n",
       "</style>\n",
       "<table border=\"1\" class=\"dataframe\">\n",
       "  <thead>\n",
       "    <tr style=\"text-align: right;\">\n",
       "      <th></th>\n",
       "      <th>Date</th>\n",
       "      <th>Volume</th>\n",
       "    </tr>\n",
       "  </thead>\n",
       "  <tbody>\n",
       "    <tr>\n",
       "      <th>0</th>\n",
       "      <td>20190101</td>\n",
       "      <td>1000</td>\n",
       "    </tr>\n",
       "    <tr>\n",
       "      <th>1</th>\n",
       "      <td>20190102</td>\n",
       "      <td>2600</td>\n",
       "    </tr>\n",
       "    <tr>\n",
       "      <th>2</th>\n",
       "      <td>20190103</td>\n",
       "      <td>1524</td>\n",
       "    </tr>\n",
       "    <tr>\n",
       "      <th>3</th>\n",
       "      <td>20190104</td>\n",
       "      <td>98000</td>\n",
       "    </tr>\n",
       "  </tbody>\n",
       "</table>\n",
       "</div>"
      ],
      "text/plain": [
       "       Date  Volume\n",
       "0  20190101    1000\n",
       "1  20190102    2600\n",
       "2  20190103    1524\n",
       "3  20190104   98000"
      ]
     },
     "execution_count": 8,
     "metadata": {},
     "output_type": "execute_result"
    }
   ],
   "source": [
    "# Create another DataFrame object\n",
    "another_df = pd.DataFrame(\n",
    "    index=[0, 1, 2, 3],\n",
    "    columns=[\"Date\", \"Volume\"],\n",
    "    data=[[20190101, 1000], [20190102, 2600], [20190103, 1524], [20190104, 98000]],\n",
    ")\n",
    "another_df"
   ]
  },
  {
   "cell_type": "markdown",
   "metadata": {},
   "source": [
    "# 5) Caso de estudio: ¿Cómo han cambiado las tendencias de la producción mundial de energía a lo largo del tiempo?\n"
   ]
  },
  {
   "cell_type": "markdown",
   "metadata": {},
   "source": [
    "**Contexto de negocio**: La producción, el consumo, la importación y la exportación de electricidad en el mundo es compleja e interesante por varias razones. Cada país tiene que hacer un seguimiento de una gran cantidad de información para asegurarse de que produce suficiente electricidad, y al mismo tiempo equilibrar estas necesidades con las implicaciones financieras a medio plazo y las preocupaciones medioambientales.\n",
    "\n",
    "**Problema de negocio**: Tu tarea consiste en desglosar los datos disponibles en archivos más pequeños, comprender la información disponible y extraer las ideas clave para un próximo informe sobre los patrones de energía global:\n",
    "\n",
    "* ¿Cuánta energía se produce?\n",
    "* ¿Cuánta energía se consume?\n",
    "* ¿Cuánta energía se importa y se exporta? \n",
    "* ¿Qué parte de esta energía es renovable?\n",
    "* ¿Cómo cambian estas tendencias de producción, consumo, importación y exportación a lo largo del tiempo?\n",
    "\n",
    "**Contexto analítico**\n",
    "Los datos se almacenan en un gran archivo CSV que contiene información sobre la producción y el consumo de energía por país y año. Usted deberá: 1) desglosar los datos en archivos CSV resumidos para compartirlos con tus colegas; 2) manipular los datos para crear más categorías a partir de las columnas existentes; 3) encontrar los mayores actores en diferentes categorías, incluyendo la exportación total de energía y la producción total por tipo (por ejemplo, la nuclear); y, finalmente, 4) encontrar tendencias en los datos, como qué países tienen la producción de energía de más rápido crecimiento.\n",
    "\n",
    "## Introducción a los datos de las Estadísticas Internacionales de  Energía \n",
    "\n",
    "El archivo de datos que te han dado es un único CSV ubicado en data/all_energy_statistics.csv. Sus colegas le han informado de que los datos proceden de http://data.un.org/Explorer.aspx, pero no saben mucho más sobre ellos.\n",
    "\n",
    "En concreto, señalan que los datos son muy [\"narrow\"(estrechos)] (https://en.wikipedia.org/wiki/Wide_and_narrow_data). Aunque el archivo contiene datos para una gran variedad de cosas, como \"Total Energy Production\" hasta \"Additives and Oxygenates - Exports\", tiene muy pocas columnas.\n",
    "\n",
    "Por lo general, cuando se trata de datos \"wide\" (amplios), podemos estar bastante seguros de que todos los datos de una misma columna son comparables. En este caso, observará una columna de unidades. No todos los datos numéricos de la columna de cantidad son directamente comparables. Por ejemplo, a veces el número de esta columna se define en términos de \"Toneladas métricas, miles\" y otras veces en \"Kilovatios-hora, millones\", ¡conceptos evidentemente muy diferentes!\n",
    "\n",
    "Como siempre, nuestro primer paso es leer los datos del disco y echar un vistazo a las primeras filas:"
   ]
  },
  {
   "cell_type": "code",
   "execution_count": 9,
   "metadata": {},
   "outputs": [],
   "source": [
    "df = pd.read_csv(\"../data/all_energy_statistics.csv\")"
   ]
  },
  {
   "cell_type": "code",
   "execution_count": 10,
   "metadata": {},
   "outputs": [
    {
     "name": "stdout",
     "output_type": "stream",
     "text": [
      "Dimentions of dataset (1189482, 7)\n"
     ]
    },
    {
     "data": {
      "text/html": [
       "<div>\n",
       "<style scoped>\n",
       "    .dataframe tbody tr th:only-of-type {\n",
       "        vertical-align: middle;\n",
       "    }\n",
       "\n",
       "    .dataframe tbody tr th {\n",
       "        vertical-align: top;\n",
       "    }\n",
       "\n",
       "    .dataframe thead th {\n",
       "        text-align: right;\n",
       "    }\n",
       "</style>\n",
       "<table border=\"1\" class=\"dataframe\">\n",
       "  <thead>\n",
       "    <tr style=\"text-align: right;\">\n",
       "      <th></th>\n",
       "      <th>country_or_area</th>\n",
       "      <th>commodity_transaction</th>\n",
       "      <th>year</th>\n",
       "      <th>unit</th>\n",
       "      <th>quantity</th>\n",
       "      <th>quantity_footnotes</th>\n",
       "      <th>category</th>\n",
       "    </tr>\n",
       "  </thead>\n",
       "  <tbody>\n",
       "    <tr>\n",
       "      <th>0</th>\n",
       "      <td>Austria</td>\n",
       "      <td>Additives and Oxygenates - Exports</td>\n",
       "      <td>1996</td>\n",
       "      <td>Metric tons,  thousand</td>\n",
       "      <td>5.0</td>\n",
       "      <td>NaN</td>\n",
       "      <td>additives_and_oxygenates</td>\n",
       "    </tr>\n",
       "    <tr>\n",
       "      <th>1</th>\n",
       "      <td>Austria</td>\n",
       "      <td>Additives and Oxygenates - Exports</td>\n",
       "      <td>1995</td>\n",
       "      <td>Metric tons,  thousand</td>\n",
       "      <td>17.0</td>\n",
       "      <td>NaN</td>\n",
       "      <td>additives_and_oxygenates</td>\n",
       "    </tr>\n",
       "    <tr>\n",
       "      <th>2</th>\n",
       "      <td>Belgium</td>\n",
       "      <td>Additives and Oxygenates - Exports</td>\n",
       "      <td>2014</td>\n",
       "      <td>Metric tons,  thousand</td>\n",
       "      <td>0.0</td>\n",
       "      <td>NaN</td>\n",
       "      <td>additives_and_oxygenates</td>\n",
       "    </tr>\n",
       "    <tr>\n",
       "      <th>3</th>\n",
       "      <td>Belgium</td>\n",
       "      <td>Additives and Oxygenates - Exports</td>\n",
       "      <td>2013</td>\n",
       "      <td>Metric tons,  thousand</td>\n",
       "      <td>0.0</td>\n",
       "      <td>NaN</td>\n",
       "      <td>additives_and_oxygenates</td>\n",
       "    </tr>\n",
       "    <tr>\n",
       "      <th>4</th>\n",
       "      <td>Belgium</td>\n",
       "      <td>Additives and Oxygenates - Exports</td>\n",
       "      <td>2012</td>\n",
       "      <td>Metric tons,  thousand</td>\n",
       "      <td>35.0</td>\n",
       "      <td>NaN</td>\n",
       "      <td>additives_and_oxygenates</td>\n",
       "    </tr>\n",
       "    <tr>\n",
       "      <th>...</th>\n",
       "      <td>...</td>\n",
       "      <td>...</td>\n",
       "      <td>...</td>\n",
       "      <td>...</td>\n",
       "      <td>...</td>\n",
       "      <td>...</td>\n",
       "      <td>...</td>\n",
       "    </tr>\n",
       "    <tr>\n",
       "      <th>1189477</th>\n",
       "      <td>Viet Nam</td>\n",
       "      <td>Electricity - total wind production</td>\n",
       "      <td>2012</td>\n",
       "      <td>Kilowatt-hours, million</td>\n",
       "      <td>92.0</td>\n",
       "      <td>1.0</td>\n",
       "      <td>wind_electricity</td>\n",
       "    </tr>\n",
       "    <tr>\n",
       "      <th>1189478</th>\n",
       "      <td>Viet Nam</td>\n",
       "      <td>Electricity - total wind production</td>\n",
       "      <td>2011</td>\n",
       "      <td>Kilowatt-hours, million</td>\n",
       "      <td>87.0</td>\n",
       "      <td>NaN</td>\n",
       "      <td>wind_electricity</td>\n",
       "    </tr>\n",
       "    <tr>\n",
       "      <th>1189479</th>\n",
       "      <td>Viet Nam</td>\n",
       "      <td>Electricity - total wind production</td>\n",
       "      <td>2010</td>\n",
       "      <td>Kilowatt-hours, million</td>\n",
       "      <td>50.0</td>\n",
       "      <td>NaN</td>\n",
       "      <td>wind_electricity</td>\n",
       "    </tr>\n",
       "    <tr>\n",
       "      <th>1189480</th>\n",
       "      <td>Viet Nam</td>\n",
       "      <td>Electricity - total wind production</td>\n",
       "      <td>2009</td>\n",
       "      <td>Kilowatt-hours, million</td>\n",
       "      <td>10.0</td>\n",
       "      <td>NaN</td>\n",
       "      <td>wind_electricity</td>\n",
       "    </tr>\n",
       "    <tr>\n",
       "      <th>1189481</th>\n",
       "      <td>Viet Nam</td>\n",
       "      <td>Electricity - total wind production</td>\n",
       "      <td>2008</td>\n",
       "      <td>Kilowatt-hours, million</td>\n",
       "      <td>1.0</td>\n",
       "      <td>NaN</td>\n",
       "      <td>wind_electricity</td>\n",
       "    </tr>\n",
       "  </tbody>\n",
       "</table>\n",
       "<p>1189482 rows × 7 columns</p>\n",
       "</div>"
      ],
      "text/plain": [
       "        country_or_area                commodity_transaction  year  \\\n",
       "0               Austria   Additives and Oxygenates - Exports  1996   \n",
       "1               Austria   Additives and Oxygenates - Exports  1995   \n",
       "2               Belgium   Additives and Oxygenates - Exports  2014   \n",
       "3               Belgium   Additives and Oxygenates - Exports  2013   \n",
       "4               Belgium   Additives and Oxygenates - Exports  2012   \n",
       "...                 ...                                  ...   ...   \n",
       "1189477        Viet Nam  Electricity - total wind production  2012   \n",
       "1189478        Viet Nam  Electricity - total wind production  2011   \n",
       "1189479        Viet Nam  Electricity - total wind production  2010   \n",
       "1189480        Viet Nam  Electricity - total wind production  2009   \n",
       "1189481        Viet Nam  Electricity - total wind production  2008   \n",
       "\n",
       "                            unit  quantity  quantity_footnotes  \\\n",
       "0         Metric tons,  thousand       5.0                 NaN   \n",
       "1         Metric tons,  thousand      17.0                 NaN   \n",
       "2         Metric tons,  thousand       0.0                 NaN   \n",
       "3         Metric tons,  thousand       0.0                 NaN   \n",
       "4         Metric tons,  thousand      35.0                 NaN   \n",
       "...                          ...       ...                 ...   \n",
       "1189477  Kilowatt-hours, million      92.0                 1.0   \n",
       "1189478  Kilowatt-hours, million      87.0                 NaN   \n",
       "1189479  Kilowatt-hours, million      50.0                 NaN   \n",
       "1189480  Kilowatt-hours, million      10.0                 NaN   \n",
       "1189481  Kilowatt-hours, million       1.0                 NaN   \n",
       "\n",
       "                         category  \n",
       "0        additives_and_oxygenates  \n",
       "1        additives_and_oxygenates  \n",
       "2        additives_and_oxygenates  \n",
       "3        additives_and_oxygenates  \n",
       "4        additives_and_oxygenates  \n",
       "...                           ...  \n",
       "1189477          wind_electricity  \n",
       "1189478          wind_electricity  \n",
       "1189479          wind_electricity  \n",
       "1189480          wind_electricity  \n",
       "1189481          wind_electricity  \n",
       "\n",
       "[1189482 rows x 7 columns]"
      ]
     },
     "execution_count": 10,
     "metadata": {},
     "output_type": "execute_result"
    }
   ],
   "source": [
    "print('Dimentions of dataset', df.shape)\n",
    "df"
   ]
  },
  {
   "cell_type": "markdown",
   "metadata": {},
   "source": [
    "* La columna \"category\" parece estar bien organizada. Todas las muestras que vemos están en minúsculas y se utilizan guiones bajos en lugar de espacios\n",
    "* La columna \"commodity_transaction\" se parece más a una descripción legible para los humanos. Podemos ver cómo incluye una descripción de la categoría (por ejemplo, \"additives_and_oxygenates\" coincide con \"Additives and Oxygenates\" y \"wind_electricity\" coincide con \"Electricity - ....wind....\")\n",
    "* Vemos rangos de \"años\" desde al menos 1995 hasta 2014 \n",
    "* Como ya se ha mencionado, tendremos que tener cuidado al comparar cantidades, ya que la columna \"unidad\" podría cambiar el significado de la columna \"cantidad\".\n",
    "\n",
    "Una buena primera pregunta es cuántos valores únicos hay para las siguientes columnas:\n",
    "\n",
    "* `country_or_area`\n",
    "* `commodity_transaction`\n",
    "* `year`\n",
    "* `category`\n",
    "\n",
    "\n",
    "Averigüémoslo:"
   ]
  },
  {
   "cell_type": "code",
   "execution_count": 11,
   "metadata": {},
   "outputs": [
    {
     "name": "stdout",
     "output_type": "stream",
     "text": [
      "years of studdy\n",
      "1990\n",
      "2014\n",
      "----------\n",
      "commodity_transaction\n",
      "['Additives and Oxygenates - Exports' 'Additives and Oxygenates - Imports'\n",
      " 'Additives and Oxygenates - Production' ...\n",
      " 'White spirit and special boiling point industrial spirits - Transformation'\n",
      " 'White spirit and special boiling point industrial spirits - Transformation in petrochemical plants'\n",
      " 'Electricity - total wind production']\n",
      "\n",
      "num unique values:  2452\n",
      "\n",
      "----------\n",
      "category\n",
      "['additives_and_oxygenates' 'animal_waste' 'anthracite'\n",
      " 'aviation_gasoline' 'bagasse' 'biodiesel' 'biogases' 'biogasoline'\n",
      " 'bitumen' 'black_liquor' 'blast_furnace_gas' 'brown_coal_briquettes'\n",
      " 'brown_coal' 'charcoal' 'coal_tar' 'coke_oven_coke' 'coking_coal'\n",
      " 'conventional_crude_oil' 'direct_use_of_geothermal_heat'\n",
      " 'direct_use_of_solar_thermal_heat'\n",
      " 'electricity_net_installed_capacity_of_electric_power_plants' 'ethane'\n",
      " 'falling_water' 'fuel_oil' 'fuelwood' 'gas_coke' 'gas_oil_diesel_oil'\n",
      " 'gasoline_type_jet_fuel' 'gasworks_gas' 'geothermal' 'hard_coal' 'heat'\n",
      " 'hydro' 'industrial_waste' 'kerosene_type_jet_fuel' 'lignite'\n",
      " 'liquified_petroleum_gas' 'lubricants' 'motor_gasoline'\n",
      " 'municipal_wastes' 'naphtha' 'natural_gas_including_lng'\n",
      " 'natural_gas_liquids' 'nuclear_electricity' 'of_which_biodiesel'\n",
      " 'of_which_biogasoline' 'oil_shale_oil_sands' 'other_bituminous_coal'\n",
      " 'other_coal_products' 'other_hydrocarbons' 'other_kerosene'\n",
      " 'other_liquid_biofuels' 'other_oil_products_n_e_c'\n",
      " 'other_recovered_gases' 'other_vegetal_material_and_residues'\n",
      " 'paraffin_waxes' 'patent_fuel' 'peat' 'peat_products' 'petroleum_coke'\n",
      " 'refinery_feedstocks' 'refinery_gas' 'solar_electricity'\n",
      " 'sub_bituminous_coal' 'thermal_electricity'\n",
      " 'tide_wave_and_ocean_electricity' 'total_electricity'\n",
      " 'total_refinery_output' 'uranium'\n",
      " 'white_spirit_and_special_boiling_point_industrial_spirits'\n",
      " 'wind_electricity']\n",
      "\n",
      "num unique values:  71\n",
      "\n",
      "---------------\n",
      "country_or_area\n",
      "['Austria' 'Belgium' 'Czechia' 'Finland' 'France' 'Greece' 'Hungary'\n",
      " 'Italy' 'Korea, Republic of' 'Netherlands' 'Romania' 'Serbia' 'Slovakia'\n",
      " 'Ukraine' 'United Kingdom' 'United States' 'Brunei Darussalam' 'Bulgaria'\n",
      " 'Canada' 'Chile' 'Croatia' 'Iran (Islamic Rep. of)' 'Jordan' 'Lithuania'\n",
      " 'Mexico' 'Oman' 'Other Asia' 'Poland' 'Portugal' 'Spain' 'Sweden'\n",
      " 'Switzerland' 'T.F.Yug.Rep. Macedonia' 'Turkey' 'Uzbekistan' 'Argentina'\n",
      " 'Colombia' 'Germany' 'Norway' 'Australia' 'China, Macao SAR' 'Japan'\n",
      " 'Denmark' 'Ireland' 'Philippines' 'Bangladesh' 'Eritrea' 'Ethiopia'\n",
      " 'Lesotho' 'Nepal' 'Niger' 'Pakistan' 'Serbia and Montenegro' 'Tunisia'\n",
      " 'Botswana' 'Georgia' 'Republic of Moldova' 'Peru' 'South Africa'\n",
      " 'Iceland' 'Latvia' 'Luxembourg' 'Cuba' 'Kyrgyzstan' 'Singapore'\n",
      " 'Thailand' 'United Arab Emirates' 'Uruguay' 'Armenia' 'Fiji'\n",
      " \"Korea, Dem.Ppl's.Rep.\" 'Russian Federation' 'Swaziland' 'Zimbabwe'\n",
      " 'Afghanistan' 'Antigua and Barbuda' 'Azerbaijan' 'Bahamas' 'Belize'\n",
      " 'Bolivia (Plur. State of)' 'Brazil' 'Burkina Faso' 'Cameroon'\n",
      " 'Cayman Islands' 'Central African Rep.' 'China' 'Comoros' 'Congo'\n",
      " 'Costa Rica' \"Côte d'Ivoire\" 'Dem. Rep. of the Congo'\n",
      " 'Dominican Republic' 'Ecuador' 'Egypt' 'El Salvador' 'Estonia'\n",
      " 'Ethiopia, incl. Eritrea' 'Faeroe Islands' 'French Guiana'\n",
      " 'Germany, Fed. R. (former)' 'Greenland' 'Guatemala' 'Guinea' 'Guyana'\n",
      " 'Honduras' 'Indonesia' 'Israel' 'Jamaica' 'Jersey' 'Kazakhstan' 'Kenya'\n",
      " 'Kuwait' \"Lao People's Dem. Rep.\" 'Liberia' 'Libya' 'Malawi' 'Malaysia'\n",
      " 'Maldives' 'Mauritania' 'Mayotte' 'Morocco' 'Myanmar' 'Namibia'\n",
      " 'New Caledonia' 'New Zealand' 'Nicaragua' 'Niue' 'Panama'\n",
      " 'Papua New Guinea' 'Paraguay' 'Sao Tome and Principe' 'Senegal'\n",
      " 'Seychelles' 'Slovenia' 'Solomon Islands' 'Sri Lanka' 'Sudan (former)'\n",
      " 'Suriname' 'Togo' 'Tonga' 'Trinidad and Tobago' 'United Rep. of Tanzania'\n",
      " 'Venezuela (Bolivar. Rep.)' 'Yugoslavia, SFR (former)' 'Zambia' 'Algeria'\n",
      " 'Curaçao' 'Gabon' 'Malta' 'Neth. Antilles (former)' 'Sierra Leone'\n",
      " 'USSR (former)' 'Barbados' 'Benin' 'Chad' 'Djibouti' 'French Polynesia'\n",
      " 'Ghana' 'Grenada' 'Guadeloupe' 'Haiti' 'Iraq' 'Kiribati' 'Madagascar'\n",
      " 'Mali' 'Martinique' 'Pacific Islands (former)' 'Palau'\n",
      " 'St. Helena and Depend.' 'St. Vincent-Grenadines' 'Syrian Arab Republic'\n",
      " 'Uganda' 'Yemen' 'Yemen, Dem. (former)' 'Burundi' 'India' 'Mauritius'\n",
      " 'Mozambique' 'Nigeria' 'Réunion' 'Rwanda' 'Samoa' 'Somalia'\n",
      " 'St. Kitts-Nevis' 'Viet Nam' 'Belarus' 'Cyprus' 'Cabo Verde' 'Albania'\n",
      " 'Bahrain' 'Bosnia and Herzegovina' 'China, Hong Kong SAR'\n",
      " 'Czechoslovakia (former)' 'Angola' 'Bermuda' 'Bhutan' 'Equatorial Guinea'\n",
      " 'Lebanon' 'Saudi Arabia' 'St. Lucia' 'St. Pierre-Miquelon'\n",
      " 'State of Palestine' 'Tajikistan' 'German Dem. R. (former)' 'Anguilla'\n",
      " 'Mongolia' 'Montenegro' 'Cambodia' 'South Sudan' 'Sudan' 'Andorra'\n",
      " 'Aruba' 'Bonaire, St Eustatius, Saba' 'British Virgin Islands' 'Dominica'\n",
      " 'Falkland Is. (Malvinas)' 'Gambia' 'Gibraltar' 'Qatar'\n",
      " 'Sint Maarten (Dutch part)' 'Turkmenistan' 'Turks and Caicos Islands'\n",
      " 'Vanuatu' 'Guinea-Bissau' 'Micronesia (Fed. States of)' 'Timor-Leste'\n",
      " 'Yemen Arab Rep. (former)' 'American Samoa' 'Liechtenstein' 'Puerto Rico'\n",
      " 'Cook Islands' 'Guam' 'Guernsey' 'Isle of Man' 'Marshall Islands'\n",
      " 'Montserrat' 'Nauru' 'Northern Mariana Islands' 'Tuvalu'\n",
      " 'United States Virgin Is.' 'Wallis and Futuna Is.'\n",
      " 'Commonwealth of Independent States (CIS)' 'Antarctic Fisheries']\n",
      "\n",
      "num unique values:  243\n"
     ]
    }
   ],
   "source": [
    "print(\"years of studdy\")\n",
    "print(df['year'].min())\n",
    "print(df['year'].max())\n",
    "print(\"----------\")\n",
    "print(\"commodity_transaction\")\n",
    "print(df['commodity_transaction'].unique())\n",
    "print()\n",
    "print(\"num unique values: \", df[\"commodity_transaction\"].nunique())\n",
    "print()\n",
    "print(\"----------\")\n",
    "print(\"category\")\n",
    "print(df[\"category\"].unique())\n",
    "print()\n",
    "print(\"num unique values: \", df[\"category\"].nunique())\n",
    "print()\n",
    "print(\"---------------\")\n",
    "print(\"country_or_area\")\n",
    "print(df[\"country_or_area\"].unique())\n",
    "print()\n",
    "print(\"num unique values: \", df[\"country_or_area\"].nunique())\n"
   ]
  },
  {
   "cell_type": "markdown",
   "metadata": {},
   "source": [
    "Podemos ver que `country_or_area` tiene 243 valores únicos, más de los 195 reconocidos oficialmente, ya que esta lista incluye algunos antiguos países como la URSS, así como zonas como las pesquerías antárticas que no son países formales.\n",
    "\n",
    "Como era de esperar, la columna `category` está bien estandarizada y divide cada fila en una de las 71 categorías únicas, mientras que la fila `commodity_transaction` es algo más caótica y consta de 2452 valores únicos.\n",
    "\n",
    "En términos de tiempo, nuestros datos abarcan desde 1990 hasta 2014 inclusive, es decir, 25 años en total.\n",
    "\n",
    "Tenga en cuenta que la salida de `unique()` se trunca automáticamente para las listas grandes, con un `...` insertado para indicarlo.\n",
    "\n",
    "Como la columna `commodity_transaction` es un poco caótica, tendremos que retocarla un poco. Vamos a crear una copia de nuestro marco de datos antes de empezar a cambiarlo para poder consultar los valores originales si es necesario."
   ]
  },
  {
   "cell_type": "code",
   "execution_count": 12,
   "metadata": {},
   "outputs": [],
   "source": [
    "df_orig = df.copy()"
   ]
  },
  {
   "cell_type": "markdown",
   "metadata": {},
   "source": [
    "Lo primero que observamos en la columna `commodity_transaction` es que utiliza guiones (`-`) como separadores. También podemos ver que utiliza minúsculas y mayúsculas, algo que suele dificultar el análisis si vamos a hacer alguna coincidencia de cadenas (por ejemplo, encontrar la palabra \"producción\", que podría saltar las descripciones que utilizan \"Producción\" en su lugar). \n",
    "\n",
    "Empecemos por poner en minúsculas todas las descripciones. En el caso anterior, aprendió a hacerlo creando una lista separada, recorriendo el marco de datos y añadiendo todos los elementos de la lista como una nueva columna. Podríamos lograr lo que queríamos de la siguiente manera:"
   ]
  },
  {
   "cell_type": "markdown",
   "metadata": {},
   "source": [
    "## Aprendiendo apply() y las funciones lambda"
   ]
  },
  {
   "cell_type": "code",
   "execution_count": 13,
   "metadata": {},
   "outputs": [
    {
     "data": {
      "text/html": [
       "<div>\n",
       "<style scoped>\n",
       "    .dataframe tbody tr th:only-of-type {\n",
       "        vertical-align: middle;\n",
       "    }\n",
       "\n",
       "    .dataframe tbody tr th {\n",
       "        vertical-align: top;\n",
       "    }\n",
       "\n",
       "    .dataframe thead th {\n",
       "        text-align: right;\n",
       "    }\n",
       "</style>\n",
       "<table border=\"1\" class=\"dataframe\">\n",
       "  <thead>\n",
       "    <tr style=\"text-align: right;\">\n",
       "      <th></th>\n",
       "      <th>country_or_area</th>\n",
       "      <th>commodity_transaction</th>\n",
       "      <th>year</th>\n",
       "      <th>unit</th>\n",
       "      <th>quantity</th>\n",
       "      <th>quantity_footnotes</th>\n",
       "      <th>category</th>\n",
       "      <th>clean_transaction</th>\n",
       "    </tr>\n",
       "  </thead>\n",
       "  <tbody>\n",
       "    <tr>\n",
       "      <th>0</th>\n",
       "      <td>Austria</td>\n",
       "      <td>Additives and Oxygenates - Exports</td>\n",
       "      <td>1996</td>\n",
       "      <td>Metric tons,  thousand</td>\n",
       "      <td>5.0</td>\n",
       "      <td>NaN</td>\n",
       "      <td>additives_and_oxygenates</td>\n",
       "      <td>additives and oxygenates - exports</td>\n",
       "    </tr>\n",
       "    <tr>\n",
       "      <th>1</th>\n",
       "      <td>Austria</td>\n",
       "      <td>Additives and Oxygenates - Exports</td>\n",
       "      <td>1995</td>\n",
       "      <td>Metric tons,  thousand</td>\n",
       "      <td>17.0</td>\n",
       "      <td>NaN</td>\n",
       "      <td>additives_and_oxygenates</td>\n",
       "      <td>additives and oxygenates - exports</td>\n",
       "    </tr>\n",
       "    <tr>\n",
       "      <th>2</th>\n",
       "      <td>Belgium</td>\n",
       "      <td>Additives and Oxygenates - Exports</td>\n",
       "      <td>2014</td>\n",
       "      <td>Metric tons,  thousand</td>\n",
       "      <td>0.0</td>\n",
       "      <td>NaN</td>\n",
       "      <td>additives_and_oxygenates</td>\n",
       "      <td>additives and oxygenates - exports</td>\n",
       "    </tr>\n",
       "    <tr>\n",
       "      <th>3</th>\n",
       "      <td>Belgium</td>\n",
       "      <td>Additives and Oxygenates - Exports</td>\n",
       "      <td>2013</td>\n",
       "      <td>Metric tons,  thousand</td>\n",
       "      <td>0.0</td>\n",
       "      <td>NaN</td>\n",
       "      <td>additives_and_oxygenates</td>\n",
       "      <td>additives and oxygenates - exports</td>\n",
       "    </tr>\n",
       "    <tr>\n",
       "      <th>4</th>\n",
       "      <td>Belgium</td>\n",
       "      <td>Additives and Oxygenates - Exports</td>\n",
       "      <td>2012</td>\n",
       "      <td>Metric tons,  thousand</td>\n",
       "      <td>35.0</td>\n",
       "      <td>NaN</td>\n",
       "      <td>additives_and_oxygenates</td>\n",
       "      <td>additives and oxygenates - exports</td>\n",
       "    </tr>\n",
       "  </tbody>\n",
       "</table>\n",
       "</div>"
      ],
      "text/plain": [
       "  country_or_area               commodity_transaction  year  \\\n",
       "0         Austria  Additives and Oxygenates - Exports  1996   \n",
       "1         Austria  Additives and Oxygenates - Exports  1995   \n",
       "2         Belgium  Additives and Oxygenates - Exports  2014   \n",
       "3         Belgium  Additives and Oxygenates - Exports  2013   \n",
       "4         Belgium  Additives and Oxygenates - Exports  2012   \n",
       "\n",
       "                     unit  quantity  quantity_footnotes  \\\n",
       "0  Metric tons,  thousand       5.0                 NaN   \n",
       "1  Metric tons,  thousand      17.0                 NaN   \n",
       "2  Metric tons,  thousand       0.0                 NaN   \n",
       "3  Metric tons,  thousand       0.0                 NaN   \n",
       "4  Metric tons,  thousand      35.0                 NaN   \n",
       "\n",
       "                   category                   clean_transaction  \n",
       "0  additives_and_oxygenates  additives and oxygenates - exports  \n",
       "1  additives_and_oxygenates  additives and oxygenates - exports  \n",
       "2  additives_and_oxygenates  additives and oxygenates - exports  \n",
       "3  additives_and_oxygenates  additives and oxygenates - exports  \n",
       "4  additives_and_oxygenates  additives and oxygenates - exports  "
      ]
     },
     "execution_count": 13,
     "metadata": {},
     "output_type": "execute_result"
    }
   ],
   "source": [
    "# lowercase the description and replace m-dashes with hyphens in one line\n",
    "df['clean_transaction'] = df['commodity_transaction'].apply(lambda x: x.lower().replace(\"–\", \"-\"))\n",
    "df.head()"
   ]
  },
  {
   "cell_type": "markdown",
   "metadata": {},
   "source": [
    "### Extracción de las filas más interesantes\n",
    "\n",
    "Es difícil inspeccionar manualmente más de 2.000 valores de descripción únicos, pero sabemos que nos interesan principalmente \n",
    "\n",
    "* Import\n",
    "* Export\n",
    "* Total production\n",
    "* Total demand or consumption\n",
    "* Renewables\n",
    "\n",
    "Podemos buscar algunas palabras clave en las descripciones utilizando un código similar al siguiente:"
   ]
  },
  {
   "cell_type": "code",
   "execution_count": 14,
   "metadata": {},
   "outputs": [
    {
     "data": {
      "text/plain": [
       "['additives and oxygenates - imports',\n",
       " 'anthracite - imports',\n",
       " 'aviation gasoline - imports',\n",
       " 'biodiesel - imports',\n",
       " 'biogases - imports',\n",
       " 'biogasoline - imports',\n",
       " 'bitumen - imports',\n",
       " 'brown coal briquettes - imports',\n",
       " 'brown coal - imports',\n",
       " 'charcoal - imports',\n",
       " 'coal tar - imports',\n",
       " 'coking coal - imports',\n",
       " 'conventional crude oil - imports',\n",
       " 'ethane - imports',\n",
       " 'fuel oil - imports',\n",
       " 'fuelwood - imports',\n",
       " 'gas coke - imports',\n",
       " 'gas oil/ diesel oil - imports',\n",
       " 'gasoline-type jet fuel - imports',\n",
       " 'gasworks gas - imports',\n",
       " 'hard coal - imports',\n",
       " 'heat - imports',\n",
       " 'industrial waste - imports',\n",
       " 'kerosene-type jet fuel - imports',\n",
       " 'lignite - imports',\n",
       " 'liquefied petroleum gas (lpg) - imports',\n",
       " 'lubricants - imports',\n",
       " 'motor gasoline - imports',\n",
       " 'municipal wastes - imports',\n",
       " 'naphtha - imports',\n",
       " 'natural gas (including lng) - imports',\n",
       " 'natural gas liquids - imports',\n",
       " 'of which: biodiesel - imports',\n",
       " 'of which: biogasoline - imports',\n",
       " 'oil shale - imports',\n",
       " 'other bituminous coal - imports',\n",
       " 'other coal products - imports',\n",
       " 'other hydrocarbons - imports',\n",
       " 'other kerosene - imports',\n",
       " 'other liquid biofuels - imports',\n",
       " 'other oil products n.e.c. - imports',\n",
       " 'vegetal waste - imports',\n",
       " 'paraffin waxes - imports',\n",
       " 'patent fuel - imports',\n",
       " 'peat - imports',\n",
       " 'peat products - imports',\n",
       " 'petroleum coke - imports',\n",
       " 'feedstocks - imports',\n",
       " 'sub-bituminous coal - imports',\n",
       " 'electricity - imports',\n",
       " 'white spirit and special boiling point industrial spirits - imports']"
      ]
     },
     "execution_count": 14,
     "metadata": {},
     "output_type": "execute_result"
    }
   ],
   "source": [
    "[x for x in df['clean_transaction'].unique() if \"import\" in x]"
   ]
  },
  {
   "cell_type": "markdown",
   "metadata": {},
   "source": [
    "Esto nos da una lista mucho más manejable para mirar, y podemos ver que \"electricidad - importaciones\" es probablemente un valor interesante. Podemos comprobarlo en el conjunto de datos principal (y ver todas las columnas) de la siguiente manera:"
   ]
  },
  {
   "cell_type": "code",
   "execution_count": 15,
   "metadata": {},
   "outputs": [
    {
     "data": {
      "text/html": [
       "<div>\n",
       "<style scoped>\n",
       "    .dataframe tbody tr th:only-of-type {\n",
       "        vertical-align: middle;\n",
       "    }\n",
       "\n",
       "    .dataframe tbody tr th {\n",
       "        vertical-align: top;\n",
       "    }\n",
       "\n",
       "    .dataframe thead th {\n",
       "        text-align: right;\n",
       "    }\n",
       "</style>\n",
       "<table border=\"1\" class=\"dataframe\">\n",
       "  <thead>\n",
       "    <tr style=\"text-align: right;\">\n",
       "      <th></th>\n",
       "      <th>country_or_area</th>\n",
       "      <th>commodity_transaction</th>\n",
       "      <th>year</th>\n",
       "      <th>unit</th>\n",
       "      <th>quantity</th>\n",
       "      <th>quantity_footnotes</th>\n",
       "      <th>category</th>\n",
       "      <th>clean_transaction</th>\n",
       "    </tr>\n",
       "  </thead>\n",
       "  <tbody>\n",
       "    <tr>\n",
       "      <th>1108326</th>\n",
       "      <td>Afghanistan</td>\n",
       "      <td>Electricity - imports</td>\n",
       "      <td>2014</td>\n",
       "      <td>Kilowatt-hours, million</td>\n",
       "      <td>3710.8</td>\n",
       "      <td>NaN</td>\n",
       "      <td>total_electricity</td>\n",
       "      <td>electricity - imports</td>\n",
       "    </tr>\n",
       "    <tr>\n",
       "      <th>1108327</th>\n",
       "      <td>Afghanistan</td>\n",
       "      <td>Electricity - imports</td>\n",
       "      <td>2013</td>\n",
       "      <td>Kilowatt-hours, million</td>\n",
       "      <td>3615.2</td>\n",
       "      <td>NaN</td>\n",
       "      <td>total_electricity</td>\n",
       "      <td>electricity - imports</td>\n",
       "    </tr>\n",
       "    <tr>\n",
       "      <th>1108328</th>\n",
       "      <td>Afghanistan</td>\n",
       "      <td>Electricity - imports</td>\n",
       "      <td>2012</td>\n",
       "      <td>Kilowatt-hours, million</td>\n",
       "      <td>3071.0</td>\n",
       "      <td>NaN</td>\n",
       "      <td>total_electricity</td>\n",
       "      <td>electricity - imports</td>\n",
       "    </tr>\n",
       "    <tr>\n",
       "      <th>1108329</th>\n",
       "      <td>Afghanistan</td>\n",
       "      <td>Electricity - imports</td>\n",
       "      <td>2011</td>\n",
       "      <td>Kilowatt-hours, million</td>\n",
       "      <td>2732.0</td>\n",
       "      <td>NaN</td>\n",
       "      <td>total_electricity</td>\n",
       "      <td>electricity - imports</td>\n",
       "    </tr>\n",
       "    <tr>\n",
       "      <th>1108330</th>\n",
       "      <td>Afghanistan</td>\n",
       "      <td>Electricity - imports</td>\n",
       "      <td>2010</td>\n",
       "      <td>Kilowatt-hours, million</td>\n",
       "      <td>1867.0</td>\n",
       "      <td>NaN</td>\n",
       "      <td>total_electricity</td>\n",
       "      <td>electricity - imports</td>\n",
       "    </tr>\n",
       "  </tbody>\n",
       "</table>\n",
       "</div>"
      ],
      "text/plain": [
       "        country_or_area  commodity_transaction  year                     unit  \\\n",
       "1108326     Afghanistan  Electricity - imports  2014  Kilowatt-hours, million   \n",
       "1108327     Afghanistan  Electricity - imports  2013  Kilowatt-hours, million   \n",
       "1108328     Afghanistan  Electricity - imports  2012  Kilowatt-hours, million   \n",
       "1108329     Afghanistan  Electricity - imports  2011  Kilowatt-hours, million   \n",
       "1108330     Afghanistan  Electricity - imports  2010  Kilowatt-hours, million   \n",
       "\n",
       "         quantity  quantity_footnotes           category  \\\n",
       "1108326    3710.8                 NaN  total_electricity   \n",
       "1108327    3615.2                 NaN  total_electricity   \n",
       "1108328    3071.0                 NaN  total_electricity   \n",
       "1108329    2732.0                 NaN  total_electricity   \n",
       "1108330    1867.0                 NaN  total_electricity   \n",
       "\n",
       "             clean_transaction  \n",
       "1108326  electricity - imports  \n",
       "1108327  electricity - imports  \n",
       "1108328  electricity - imports  \n",
       "1108329  electricity - imports  \n",
       "1108330  electricity - imports  "
      ]
     },
     "execution_count": 15,
     "metadata": {},
     "output_type": "execute_result"
    }
   ],
   "source": [
    "df[df['clean_transaction'] == \"electricity - imports\"].head()"
   ]
  },
  {
   "cell_type": "markdown",
   "metadata": {},
   "source": [
    "Usamos el mismo método para explorar los valores totales de importación, exportación, producción total, demanda total y producción de energía renovable y nos quedamos con las 9 más relevantes."
   ]
  },
  {
   "cell_type": "code",
   "execution_count": 16,
   "metadata": {},
   "outputs": [],
   "source": [
    "# The first four values handle demand, production, import and exports\n",
    "# The others are all values that match the `total ..... production` pattern except for `thermal` which \n",
    "# loosely describes all non-renewable sources of production\n",
    "keep_values =  [\"electricity - gross demand\",\n",
    "        \"electricity - gross production\",\n",
    "        \"electricity - imports\",\n",
    "        \"electricity - exports\",\n",
    "        \"electricity - total hydro production\",\n",
    "        \"electricity - total wind production\",\n",
    "        \"electricity - total solar production\",\n",
    "        \"electricity - total geothermal production\",\n",
    "        \"electricity - total tide, wave production\",\n",
    "]"
   ]
  },
  {
   "cell_type": "markdown",
   "metadata": {},
   "source": [
    "### Pivotar los valores interesantes en sus propias columnas\n",
    "\n",
    "Por supuesto, ahora que hemos identificado las descripciones de las transacciones más interesantes, probablemente deberíamos sacarlas de esa única columna en la que están metidas. Vamos a \"pivotar\" nuestros datos a un formato más utilizable, manteniendo cada uno de estos valores interesantes como nuevas columnas. Esto traduce nuestros datos de un formato bastante estrecho a uno más amplio.\n",
    "\n",
    "Puede que conozcas las \"pivot tables\" de Excel. Si no es así, no te preocupes, ya las conocerás más adelante y con más detalle. Pero si las conoces, reconocerás que esto es exactamente lo mismo. Utilizaremos la función pivote en pandas, sobre la que puedes leer más [aquí](https://pandas.pydata.org/pandas-docs/stable/reference/api/pandas.DataFrame.pivot.html)."
   ]
  },
  {
   "cell_type": "code",
   "execution_count": 17,
   "metadata": {},
   "outputs": [],
   "source": [
    "# we'll keep our \"interesting\" values after we turn them into columsn\n",
    "# but we'll also keep the \"country\" and \"year\" columns\n",
    "final_keep_values = [\"country_or_area\", \"year\"] + keep_values"
   ]
  },
  {
   "cell_type": "code",
   "execution_count": 18,
   "metadata": {},
   "outputs": [
    {
     "data": {
      "text/plain": [
       "['country_or_area',\n",
       " 'year',\n",
       " 'electricity - gross demand',\n",
       " 'electricity - gross production',\n",
       " 'electricity - imports',\n",
       " 'electricity - exports',\n",
       " 'electricity - total hydro production',\n",
       " 'electricity - total wind production',\n",
       " 'electricity - total solar production',\n",
       " 'electricity - total geothermal production',\n",
       " 'electricity - total tide, wave production']"
      ]
     },
     "execution_count": 18,
     "metadata": {},
     "output_type": "execute_result"
    }
   ],
   "source": [
    "final_keep_values"
   ]
  },
  {
   "cell_type": "code",
   "execution_count": 19,
   "metadata": {},
   "outputs": [],
   "source": [
    "df_countries = pd.pivot_table(\n",
    "    df,\n",
    "    values=\"quantity\",\n",
    "    index=[\"country_or_area\", \"year\"],\n",
    "    columns=\"clean_transaction\",\n",
    ").reset_index()[final_keep_values]"
   ]
  },
  {
   "cell_type": "code",
   "execution_count": 20,
   "metadata": {},
   "outputs": [
    {
     "data": {
      "text/html": [
       "<div>\n",
       "<style scoped>\n",
       "    .dataframe tbody tr th:only-of-type {\n",
       "        vertical-align: middle;\n",
       "    }\n",
       "\n",
       "    .dataframe tbody tr th {\n",
       "        vertical-align: top;\n",
       "    }\n",
       "\n",
       "    .dataframe thead th {\n",
       "        text-align: right;\n",
       "    }\n",
       "</style>\n",
       "<table border=\"1\" class=\"dataframe\">\n",
       "  <thead>\n",
       "    <tr style=\"text-align: right;\">\n",
       "      <th>clean_transaction</th>\n",
       "      <th>country_or_area</th>\n",
       "      <th>year</th>\n",
       "      <th>electricity - gross demand</th>\n",
       "      <th>electricity - gross production</th>\n",
       "      <th>electricity - imports</th>\n",
       "      <th>electricity - exports</th>\n",
       "      <th>electricity - total hydro production</th>\n",
       "      <th>electricity - total wind production</th>\n",
       "      <th>electricity - total solar production</th>\n",
       "      <th>electricity - total geothermal production</th>\n",
       "      <th>electricity - total tide, wave production</th>\n",
       "    </tr>\n",
       "  </thead>\n",
       "  <tbody>\n",
       "    <tr>\n",
       "      <th>0</th>\n",
       "      <td>Afghanistan</td>\n",
       "      <td>1990</td>\n",
       "      <td>1055.0</td>\n",
       "      <td>1128.0</td>\n",
       "      <td>NaN</td>\n",
       "      <td>NaN</td>\n",
       "      <td>764.0</td>\n",
       "      <td>NaN</td>\n",
       "      <td>NaN</td>\n",
       "      <td>NaN</td>\n",
       "      <td>NaN</td>\n",
       "    </tr>\n",
       "    <tr>\n",
       "      <th>1</th>\n",
       "      <td>Afghanistan</td>\n",
       "      <td>1991</td>\n",
       "      <td>945.0</td>\n",
       "      <td>1015.0</td>\n",
       "      <td>NaN</td>\n",
       "      <td>NaN</td>\n",
       "      <td>690.0</td>\n",
       "      <td>NaN</td>\n",
       "      <td>NaN</td>\n",
       "      <td>NaN</td>\n",
       "      <td>NaN</td>\n",
       "    </tr>\n",
       "    <tr>\n",
       "      <th>2</th>\n",
       "      <td>Afghanistan</td>\n",
       "      <td>1992</td>\n",
       "      <td>789.0</td>\n",
       "      <td>703.0</td>\n",
       "      <td>131.0</td>\n",
       "      <td>NaN</td>\n",
       "      <td>478.0</td>\n",
       "      <td>NaN</td>\n",
       "      <td>NaN</td>\n",
       "      <td>NaN</td>\n",
       "      <td>NaN</td>\n",
       "    </tr>\n",
       "    <tr>\n",
       "      <th>3</th>\n",
       "      <td>Afghanistan</td>\n",
       "      <td>1993</td>\n",
       "      <td>780.0</td>\n",
       "      <td>695.0</td>\n",
       "      <td>130.0</td>\n",
       "      <td>NaN</td>\n",
       "      <td>475.0</td>\n",
       "      <td>NaN</td>\n",
       "      <td>NaN</td>\n",
       "      <td>NaN</td>\n",
       "      <td>NaN</td>\n",
       "    </tr>\n",
       "    <tr>\n",
       "      <th>4</th>\n",
       "      <td>Afghanistan</td>\n",
       "      <td>1994</td>\n",
       "      <td>770.0</td>\n",
       "      <td>687.0</td>\n",
       "      <td>128.0</td>\n",
       "      <td>NaN</td>\n",
       "      <td>472.0</td>\n",
       "      <td>NaN</td>\n",
       "      <td>NaN</td>\n",
       "      <td>NaN</td>\n",
       "      <td>NaN</td>\n",
       "    </tr>\n",
       "    <tr>\n",
       "      <th>...</th>\n",
       "      <td>...</td>\n",
       "      <td>...</td>\n",
       "      <td>...</td>\n",
       "      <td>...</td>\n",
       "      <td>...</td>\n",
       "      <td>...</td>\n",
       "      <td>...</td>\n",
       "      <td>...</td>\n",
       "      <td>...</td>\n",
       "      <td>...</td>\n",
       "      <td>...</td>\n",
       "    </tr>\n",
       "    <tr>\n",
       "      <th>5563</th>\n",
       "      <td>Zimbabwe</td>\n",
       "      <td>2010</td>\n",
       "      <td>9317.3</td>\n",
       "      <td>8602.9</td>\n",
       "      <td>1681.7</td>\n",
       "      <td>694.4</td>\n",
       "      <td>5762.8</td>\n",
       "      <td>NaN</td>\n",
       "      <td>NaN</td>\n",
       "      <td>NaN</td>\n",
       "      <td>NaN</td>\n",
       "    </tr>\n",
       "    <tr>\n",
       "      <th>5564</th>\n",
       "      <td>Zimbabwe</td>\n",
       "      <td>2011</td>\n",
       "      <td>9645.5</td>\n",
       "      <td>9177.2</td>\n",
       "      <td>1578.7</td>\n",
       "      <td>988.2</td>\n",
       "      <td>5201.8</td>\n",
       "      <td>NaN</td>\n",
       "      <td>NaN</td>\n",
       "      <td>NaN</td>\n",
       "      <td>NaN</td>\n",
       "    </tr>\n",
       "    <tr>\n",
       "      <th>5565</th>\n",
       "      <td>Zimbabwe</td>\n",
       "      <td>2012</td>\n",
       "      <td>9425.2</td>\n",
       "      <td>9148.6</td>\n",
       "      <td>1076.1</td>\n",
       "      <td>700.9</td>\n",
       "      <td>5387.3</td>\n",
       "      <td>NaN</td>\n",
       "      <td>NaN</td>\n",
       "      <td>NaN</td>\n",
       "      <td>NaN</td>\n",
       "    </tr>\n",
       "    <tr>\n",
       "      <th>5566</th>\n",
       "      <td>Zimbabwe</td>\n",
       "      <td>2013</td>\n",
       "      <td>9919.7</td>\n",
       "      <td>9498.8</td>\n",
       "      <td>1722.0</td>\n",
       "      <td>1189.3</td>\n",
       "      <td>4981.8</td>\n",
       "      <td>NaN</td>\n",
       "      <td>NaN</td>\n",
       "      <td>NaN</td>\n",
       "      <td>NaN</td>\n",
       "    </tr>\n",
       "    <tr>\n",
       "      <th>5567</th>\n",
       "      <td>Zimbabwe</td>\n",
       "      <td>2014</td>\n",
       "      <td>9740.0</td>\n",
       "      <td>10023.0</td>\n",
       "      <td>1127.0</td>\n",
       "      <td>1226.0</td>\n",
       "      <td>5431.0</td>\n",
       "      <td>NaN</td>\n",
       "      <td>NaN</td>\n",
       "      <td>NaN</td>\n",
       "      <td>NaN</td>\n",
       "    </tr>\n",
       "  </tbody>\n",
       "</table>\n",
       "<p>5568 rows × 11 columns</p>\n",
       "</div>"
      ],
      "text/plain": [
       "clean_transaction country_or_area  year  electricity - gross demand  \\\n",
       "0                     Afghanistan  1990                      1055.0   \n",
       "1                     Afghanistan  1991                       945.0   \n",
       "2                     Afghanistan  1992                       789.0   \n",
       "3                     Afghanistan  1993                       780.0   \n",
       "4                     Afghanistan  1994                       770.0   \n",
       "...                           ...   ...                         ...   \n",
       "5563                     Zimbabwe  2010                      9317.3   \n",
       "5564                     Zimbabwe  2011                      9645.5   \n",
       "5565                     Zimbabwe  2012                      9425.2   \n",
       "5566                     Zimbabwe  2013                      9919.7   \n",
       "5567                     Zimbabwe  2014                      9740.0   \n",
       "\n",
       "clean_transaction  electricity - gross production  electricity - imports  \\\n",
       "0                                          1128.0                    NaN   \n",
       "1                                          1015.0                    NaN   \n",
       "2                                           703.0                  131.0   \n",
       "3                                           695.0                  130.0   \n",
       "4                                           687.0                  128.0   \n",
       "...                                           ...                    ...   \n",
       "5563                                       8602.9                 1681.7   \n",
       "5564                                       9177.2                 1578.7   \n",
       "5565                                       9148.6                 1076.1   \n",
       "5566                                       9498.8                 1722.0   \n",
       "5567                                      10023.0                 1127.0   \n",
       "\n",
       "clean_transaction  electricity - exports  \\\n",
       "0                                    NaN   \n",
       "1                                    NaN   \n",
       "2                                    NaN   \n",
       "3                                    NaN   \n",
       "4                                    NaN   \n",
       "...                                  ...   \n",
       "5563                               694.4   \n",
       "5564                               988.2   \n",
       "5565                               700.9   \n",
       "5566                              1189.3   \n",
       "5567                              1226.0   \n",
       "\n",
       "clean_transaction  electricity - total hydro production  \\\n",
       "0                                                 764.0   \n",
       "1                                                 690.0   \n",
       "2                                                 478.0   \n",
       "3                                                 475.0   \n",
       "4                                                 472.0   \n",
       "...                                                 ...   \n",
       "5563                                             5762.8   \n",
       "5564                                             5201.8   \n",
       "5565                                             5387.3   \n",
       "5566                                             4981.8   \n",
       "5567                                             5431.0   \n",
       "\n",
       "clean_transaction  electricity - total wind production  \\\n",
       "0                                                  NaN   \n",
       "1                                                  NaN   \n",
       "2                                                  NaN   \n",
       "3                                                  NaN   \n",
       "4                                                  NaN   \n",
       "...                                                ...   \n",
       "5563                                               NaN   \n",
       "5564                                               NaN   \n",
       "5565                                               NaN   \n",
       "5566                                               NaN   \n",
       "5567                                               NaN   \n",
       "\n",
       "clean_transaction  electricity - total solar production  \\\n",
       "0                                                   NaN   \n",
       "1                                                   NaN   \n",
       "2                                                   NaN   \n",
       "3                                                   NaN   \n",
       "4                                                   NaN   \n",
       "...                                                 ...   \n",
       "5563                                                NaN   \n",
       "5564                                                NaN   \n",
       "5565                                                NaN   \n",
       "5566                                                NaN   \n",
       "5567                                                NaN   \n",
       "\n",
       "clean_transaction  electricity - total geothermal production  \\\n",
       "0                                                        NaN   \n",
       "1                                                        NaN   \n",
       "2                                                        NaN   \n",
       "3                                                        NaN   \n",
       "4                                                        NaN   \n",
       "...                                                      ...   \n",
       "5563                                                     NaN   \n",
       "5564                                                     NaN   \n",
       "5565                                                     NaN   \n",
       "5566                                                     NaN   \n",
       "5567                                                     NaN   \n",
       "\n",
       "clean_transaction  electricity - total tide, wave production  \n",
       "0                                                        NaN  \n",
       "1                                                        NaN  \n",
       "2                                                        NaN  \n",
       "3                                                        NaN  \n",
       "4                                                        NaN  \n",
       "...                                                      ...  \n",
       "5563                                                     NaN  \n",
       "5564                                                     NaN  \n",
       "5565                                                     NaN  \n",
       "5566                                                     NaN  \n",
       "5567                                                     NaN  \n",
       "\n",
       "[5568 rows x 11 columns]"
      ]
     },
     "execution_count": 20,
     "metadata": {},
     "output_type": "execute_result"
    }
   ],
   "source": [
    "df_countries"
   ]
  },
  {
   "cell_type": "code",
   "execution_count": 21,
   "metadata": {},
   "outputs": [
    {
     "data": {
      "text/html": [
       "<div>\n",
       "<style scoped>\n",
       "    .dataframe tbody tr th:only-of-type {\n",
       "        vertical-align: middle;\n",
       "    }\n",
       "\n",
       "    .dataframe tbody tr th {\n",
       "        vertical-align: top;\n",
       "    }\n",
       "\n",
       "    .dataframe thead th {\n",
       "        text-align: right;\n",
       "    }\n",
       "</style>\n",
       "<table border=\"1\" class=\"dataframe\">\n",
       "  <thead>\n",
       "    <tr style=\"text-align: right;\">\n",
       "      <th></th>\n",
       "      <th>country</th>\n",
       "      <th>year</th>\n",
       "      <th>demand</th>\n",
       "      <th>production</th>\n",
       "      <th>imports</th>\n",
       "      <th>exports</th>\n",
       "      <th>hydro</th>\n",
       "      <th>wind</th>\n",
       "      <th>solar</th>\n",
       "      <th>geothermal</th>\n",
       "      <th>tide</th>\n",
       "    </tr>\n",
       "  </thead>\n",
       "  <tbody>\n",
       "    <tr>\n",
       "      <th>1062</th>\n",
       "      <td>China</td>\n",
       "      <td>2014</td>\n",
       "      <td>5219096.0</td>\n",
       "      <td>5649583.4</td>\n",
       "      <td>6750.0</td>\n",
       "      <td>18158.0</td>\n",
       "      <td>1064337.0</td>\n",
       "      <td>156078.0</td>\n",
       "      <td>15189.0</td>\n",
       "      <td>NaN</td>\n",
       "      <td>NaN</td>\n",
       "    </tr>\n",
       "    <tr>\n",
       "      <th>1061</th>\n",
       "      <td>China</td>\n",
       "      <td>2013</td>\n",
       "      <td>5016127.0</td>\n",
       "      <td>5431637.4</td>\n",
       "      <td>7438.0</td>\n",
       "      <td>18669.0</td>\n",
       "      <td>920291.0</td>\n",
       "      <td>141197.0</td>\n",
       "      <td>5564.0</td>\n",
       "      <td>NaN</td>\n",
       "      <td>NaN</td>\n",
       "    </tr>\n",
       "    <tr>\n",
       "      <th>1060</th>\n",
       "      <td>China</td>\n",
       "      <td>2012</td>\n",
       "      <td>4609729.0</td>\n",
       "      <td>4987553.0</td>\n",
       "      <td>6874.0</td>\n",
       "      <td>17653.0</td>\n",
       "      <td>872107.0</td>\n",
       "      <td>95978.0</td>\n",
       "      <td>NaN</td>\n",
       "      <td>NaN</td>\n",
       "      <td>NaN</td>\n",
       "    </tr>\n",
       "    <tr>\n",
       "      <th>1059</th>\n",
       "      <td>China</td>\n",
       "      <td>2011</td>\n",
       "      <td>4319132.0</td>\n",
       "      <td>4713019.0</td>\n",
       "      <td>6562.0</td>\n",
       "      <td>19307.0</td>\n",
       "      <td>698945.0</td>\n",
       "      <td>70331.0</td>\n",
       "      <td>NaN</td>\n",
       "      <td>NaN</td>\n",
       "      <td>NaN</td>\n",
       "    </tr>\n",
       "    <tr>\n",
       "      <th>5322</th>\n",
       "      <td>United States</td>\n",
       "      <td>2010</td>\n",
       "      <td>4153664.0</td>\n",
       "      <td>4378422.0</td>\n",
       "      <td>45083.0</td>\n",
       "      <td>19107.0</td>\n",
       "      <td>286333.0</td>\n",
       "      <td>95148.0</td>\n",
       "      <td>3934.0</td>\n",
       "      <td>17577.0</td>\n",
       "      <td>NaN</td>\n",
       "    </tr>\n",
       "    <tr>\n",
       "      <th>...</th>\n",
       "      <td>...</td>\n",
       "      <td>...</td>\n",
       "      <td>...</td>\n",
       "      <td>...</td>\n",
       "      <td>...</td>\n",
       "      <td>...</td>\n",
       "      <td>...</td>\n",
       "      <td>...</td>\n",
       "      <td>...</td>\n",
       "      <td>...</td>\n",
       "      <td>...</td>\n",
       "    </tr>\n",
       "    <tr>\n",
       "      <th>2873</th>\n",
       "      <td>Lesotho</td>\n",
       "      <td>1996</td>\n",
       "      <td>335.0</td>\n",
       "      <td>NaN</td>\n",
       "      <td>335.0</td>\n",
       "      <td>NaN</td>\n",
       "      <td>NaN</td>\n",
       "      <td>NaN</td>\n",
       "      <td>NaN</td>\n",
       "      <td>NaN</td>\n",
       "      <td>NaN</td>\n",
       "    </tr>\n",
       "    <tr>\n",
       "      <th>2874</th>\n",
       "      <td>Lesotho</td>\n",
       "      <td>1997</td>\n",
       "      <td>395.0</td>\n",
       "      <td>NaN</td>\n",
       "      <td>395.0</td>\n",
       "      <td>NaN</td>\n",
       "      <td>NaN</td>\n",
       "      <td>NaN</td>\n",
       "      <td>NaN</td>\n",
       "      <td>NaN</td>\n",
       "      <td>NaN</td>\n",
       "    </tr>\n",
       "    <tr>\n",
       "      <th>2875</th>\n",
       "      <td>Lesotho</td>\n",
       "      <td>1998</td>\n",
       "      <td>385.0</td>\n",
       "      <td>NaN</td>\n",
       "      <td>385.0</td>\n",
       "      <td>NaN</td>\n",
       "      <td>NaN</td>\n",
       "      <td>NaN</td>\n",
       "      <td>NaN</td>\n",
       "      <td>NaN</td>\n",
       "      <td>NaN</td>\n",
       "    </tr>\n",
       "    <tr>\n",
       "      <th>3454</th>\n",
       "      <td>Namibia</td>\n",
       "      <td>1990</td>\n",
       "      <td>NaN</td>\n",
       "      <td>NaN</td>\n",
       "      <td>NaN</td>\n",
       "      <td>NaN</td>\n",
       "      <td>NaN</td>\n",
       "      <td>NaN</td>\n",
       "      <td>NaN</td>\n",
       "      <td>NaN</td>\n",
       "      <td>NaN</td>\n",
       "    </tr>\n",
       "    <tr>\n",
       "      <th>5517</th>\n",
       "      <td>Yugoslavia, SFR (former)</td>\n",
       "      <td>1993</td>\n",
       "      <td>NaN</td>\n",
       "      <td>NaN</td>\n",
       "      <td>NaN</td>\n",
       "      <td>NaN</td>\n",
       "      <td>NaN</td>\n",
       "      <td>NaN</td>\n",
       "      <td>NaN</td>\n",
       "      <td>NaN</td>\n",
       "      <td>NaN</td>\n",
       "    </tr>\n",
       "  </tbody>\n",
       "</table>\n",
       "<p>5568 rows × 11 columns</p>\n",
       "</div>"
      ],
      "text/plain": [
       "                       country  year     demand  production  imports  exports  \\\n",
       "1062                     China  2014  5219096.0   5649583.4   6750.0  18158.0   \n",
       "1061                     China  2013  5016127.0   5431637.4   7438.0  18669.0   \n",
       "1060                     China  2012  4609729.0   4987553.0   6874.0  17653.0   \n",
       "1059                     China  2011  4319132.0   4713019.0   6562.0  19307.0   \n",
       "5322             United States  2010  4153664.0   4378422.0  45083.0  19107.0   \n",
       "...                        ...   ...        ...         ...      ...      ...   \n",
       "2873                   Lesotho  1996      335.0         NaN    335.0      NaN   \n",
       "2874                   Lesotho  1997      395.0         NaN    395.0      NaN   \n",
       "2875                   Lesotho  1998      385.0         NaN    385.0      NaN   \n",
       "3454                   Namibia  1990        NaN         NaN      NaN      NaN   \n",
       "5517  Yugoslavia, SFR (former)  1993        NaN         NaN      NaN      NaN   \n",
       "\n",
       "          hydro      wind    solar  geothermal  tide  \n",
       "1062  1064337.0  156078.0  15189.0         NaN   NaN  \n",
       "1061   920291.0  141197.0   5564.0         NaN   NaN  \n",
       "1060   872107.0   95978.0      NaN         NaN   NaN  \n",
       "1059   698945.0   70331.0      NaN         NaN   NaN  \n",
       "5322   286333.0   95148.0   3934.0     17577.0   NaN  \n",
       "...         ...       ...      ...         ...   ...  \n",
       "2873        NaN       NaN      NaN         NaN   NaN  \n",
       "2874        NaN       NaN      NaN         NaN   NaN  \n",
       "2875        NaN       NaN      NaN         NaN   NaN  \n",
       "3454        NaN       NaN      NaN         NaN   NaN  \n",
       "5517        NaN       NaN      NaN         NaN   NaN  \n",
       "\n",
       "[5568 rows x 11 columns]"
      ]
     },
     "execution_count": 21,
     "metadata": {},
     "output_type": "execute_result"
    }
   ],
   "source": [
    "df_countries.columns = [\n",
    "    \"country\",\n",
    "    \"year\",\n",
    "    \"demand\",\n",
    "    \"production\",\n",
    "    \"imports\",\n",
    "    \"exports\",\n",
    "    \"hydro\",\n",
    "    \"wind\",\n",
    "    \"solar\",\n",
    "    \"geothermal\",\n",
    "    \"tide\"\n",
    "]\n",
    "\n",
    "# output with the energy production leaders first\n",
    "df_countries.sort_values(by=\"production\", ascending=False)"
   ]
  },
  {
   "cell_type": "markdown",
   "metadata": {},
   "source": [
    "La última comprobación que debemos hacer es si alguno de los valores que conservamos utiliza una \"unidad\" diferente. Un rápido examen de los datos muestra que todos los valores que nos interesan se miden en \"kilovatios-hora, millón\", pero es posible que algunos valores pequeños se midan como \"kilovatios-hora, mil\", por ejemplo. Busquemos los valores únicos utilizados en nuestra lista `keep_values`:"
   ]
  },
  {
   "cell_type": "code",
   "execution_count": 23,
   "metadata": {},
   "outputs": [
    {
     "name": "stdout",
     "output_type": "stream",
     "text": [
      "{'Kilowatt-hours, million'}\n"
     ]
    }
   ],
   "source": [
    "\n",
    "all_units = []\n",
    "\n",
    "\n",
    "for value in keep_values:\n",
    "    units_used = list(df[df['clean_transaction'] == value]['unit'].unique())\n",
    "    all_units += units_used\n",
    "print(set(all_units))"
   ]
  },
  {
   "cell_type": "markdown",
   "metadata": {},
   "source": [
    "Todo bien. Sólo se utiliza una unidad. Así que hemos terminado con la preparación de los datos y podemos empezar a explorar nuestro conjunto de datos en busca de información."
   ]
  },
  {
   "cell_type": "markdown",
   "metadata": {},
   "source": [
    "Como se ha mencionado, el equipo está interesado en analizar los países en función de su producción de energía renovable. Actualmente sabemos cuánta energía producen en total y cuánta de ella se debe a cada una de las opciones renovables. Empezaremos por añadir algunos datos complementarios y luego analizaremos nuestro conjunto de datos en busca de países y patrones interesantes."
   ]
  },
  {
   "cell_type": "code",
   "execution_count": 24,
   "metadata": {},
   "outputs": [
    {
     "data": {
      "text/html": [
       "<div>\n",
       "<style scoped>\n",
       "    .dataframe tbody tr th:only-of-type {\n",
       "        vertical-align: middle;\n",
       "    }\n",
       "\n",
       "    .dataframe tbody tr th {\n",
       "        vertical-align: top;\n",
       "    }\n",
       "\n",
       "    .dataframe thead th {\n",
       "        text-align: right;\n",
       "    }\n",
       "</style>\n",
       "<table border=\"1\" class=\"dataframe\">\n",
       "  <thead>\n",
       "    <tr style=\"text-align: right;\">\n",
       "      <th></th>\n",
       "      <th>country</th>\n",
       "      <th>year</th>\n",
       "      <th>demand</th>\n",
       "      <th>production</th>\n",
       "      <th>imports</th>\n",
       "      <th>exports</th>\n",
       "      <th>hydro</th>\n",
       "      <th>wind</th>\n",
       "      <th>solar</th>\n",
       "      <th>geothermal</th>\n",
       "      <th>tide</th>\n",
       "      <th>renewable_percent</th>\n",
       "    </tr>\n",
       "  </thead>\n",
       "  <tbody>\n",
       "    <tr>\n",
       "      <th>0</th>\n",
       "      <td>Afghanistan</td>\n",
       "      <td>1990</td>\n",
       "      <td>1055.0</td>\n",
       "      <td>1128.0</td>\n",
       "      <td>0.0</td>\n",
       "      <td>0.0</td>\n",
       "      <td>764.0</td>\n",
       "      <td>0.0</td>\n",
       "      <td>0.0</td>\n",
       "      <td>0.0</td>\n",
       "      <td>0.0</td>\n",
       "      <td>0.677305</td>\n",
       "    </tr>\n",
       "    <tr>\n",
       "      <th>1</th>\n",
       "      <td>Afghanistan</td>\n",
       "      <td>1991</td>\n",
       "      <td>945.0</td>\n",
       "      <td>1015.0</td>\n",
       "      <td>0.0</td>\n",
       "      <td>0.0</td>\n",
       "      <td>690.0</td>\n",
       "      <td>0.0</td>\n",
       "      <td>0.0</td>\n",
       "      <td>0.0</td>\n",
       "      <td>0.0</td>\n",
       "      <td>0.679803</td>\n",
       "    </tr>\n",
       "    <tr>\n",
       "      <th>2</th>\n",
       "      <td>Afghanistan</td>\n",
       "      <td>1992</td>\n",
       "      <td>789.0</td>\n",
       "      <td>703.0</td>\n",
       "      <td>131.0</td>\n",
       "      <td>0.0</td>\n",
       "      <td>478.0</td>\n",
       "      <td>0.0</td>\n",
       "      <td>0.0</td>\n",
       "      <td>0.0</td>\n",
       "      <td>0.0</td>\n",
       "      <td>0.679943</td>\n",
       "    </tr>\n",
       "    <tr>\n",
       "      <th>3</th>\n",
       "      <td>Afghanistan</td>\n",
       "      <td>1993</td>\n",
       "      <td>780.0</td>\n",
       "      <td>695.0</td>\n",
       "      <td>130.0</td>\n",
       "      <td>0.0</td>\n",
       "      <td>475.0</td>\n",
       "      <td>0.0</td>\n",
       "      <td>0.0</td>\n",
       "      <td>0.0</td>\n",
       "      <td>0.0</td>\n",
       "      <td>0.683453</td>\n",
       "    </tr>\n",
       "    <tr>\n",
       "      <th>4</th>\n",
       "      <td>Afghanistan</td>\n",
       "      <td>1994</td>\n",
       "      <td>770.0</td>\n",
       "      <td>687.0</td>\n",
       "      <td>128.0</td>\n",
       "      <td>0.0</td>\n",
       "      <td>472.0</td>\n",
       "      <td>0.0</td>\n",
       "      <td>0.0</td>\n",
       "      <td>0.0</td>\n",
       "      <td>0.0</td>\n",
       "      <td>0.687045</td>\n",
       "    </tr>\n",
       "    <tr>\n",
       "      <th>...</th>\n",
       "      <td>...</td>\n",
       "      <td>...</td>\n",
       "      <td>...</td>\n",
       "      <td>...</td>\n",
       "      <td>...</td>\n",
       "      <td>...</td>\n",
       "      <td>...</td>\n",
       "      <td>...</td>\n",
       "      <td>...</td>\n",
       "      <td>...</td>\n",
       "      <td>...</td>\n",
       "      <td>...</td>\n",
       "    </tr>\n",
       "    <tr>\n",
       "      <th>5563</th>\n",
       "      <td>Zimbabwe</td>\n",
       "      <td>2010</td>\n",
       "      <td>9317.3</td>\n",
       "      <td>8602.9</td>\n",
       "      <td>1681.7</td>\n",
       "      <td>694.4</td>\n",
       "      <td>5762.8</td>\n",
       "      <td>0.0</td>\n",
       "      <td>0.0</td>\n",
       "      <td>0.0</td>\n",
       "      <td>0.0</td>\n",
       "      <td>0.669867</td>\n",
       "    </tr>\n",
       "    <tr>\n",
       "      <th>5564</th>\n",
       "      <td>Zimbabwe</td>\n",
       "      <td>2011</td>\n",
       "      <td>9645.5</td>\n",
       "      <td>9177.2</td>\n",
       "      <td>1578.7</td>\n",
       "      <td>988.2</td>\n",
       "      <td>5201.8</td>\n",
       "      <td>0.0</td>\n",
       "      <td>0.0</td>\n",
       "      <td>0.0</td>\n",
       "      <td>0.0</td>\n",
       "      <td>0.566818</td>\n",
       "    </tr>\n",
       "    <tr>\n",
       "      <th>5565</th>\n",
       "      <td>Zimbabwe</td>\n",
       "      <td>2012</td>\n",
       "      <td>9425.2</td>\n",
       "      <td>9148.6</td>\n",
       "      <td>1076.1</td>\n",
       "      <td>700.9</td>\n",
       "      <td>5387.3</td>\n",
       "      <td>0.0</td>\n",
       "      <td>0.0</td>\n",
       "      <td>0.0</td>\n",
       "      <td>0.0</td>\n",
       "      <td>0.588866</td>\n",
       "    </tr>\n",
       "    <tr>\n",
       "      <th>5566</th>\n",
       "      <td>Zimbabwe</td>\n",
       "      <td>2013</td>\n",
       "      <td>9919.7</td>\n",
       "      <td>9498.8</td>\n",
       "      <td>1722.0</td>\n",
       "      <td>1189.3</td>\n",
       "      <td>4981.8</td>\n",
       "      <td>0.0</td>\n",
       "      <td>0.0</td>\n",
       "      <td>0.0</td>\n",
       "      <td>0.0</td>\n",
       "      <td>0.524466</td>\n",
       "    </tr>\n",
       "    <tr>\n",
       "      <th>5567</th>\n",
       "      <td>Zimbabwe</td>\n",
       "      <td>2014</td>\n",
       "      <td>9740.0</td>\n",
       "      <td>10023.0</td>\n",
       "      <td>1127.0</td>\n",
       "      <td>1226.0</td>\n",
       "      <td>5431.0</td>\n",
       "      <td>0.0</td>\n",
       "      <td>0.0</td>\n",
       "      <td>0.0</td>\n",
       "      <td>0.0</td>\n",
       "      <td>0.541854</td>\n",
       "    </tr>\n",
       "  </tbody>\n",
       "</table>\n",
       "<p>5568 rows × 12 columns</p>\n",
       "</div>"
      ],
      "text/plain": [
       "          country  year  demand  production  imports  exports   hydro  wind  \\\n",
       "0     Afghanistan  1990  1055.0      1128.0      0.0      0.0   764.0   0.0   \n",
       "1     Afghanistan  1991   945.0      1015.0      0.0      0.0   690.0   0.0   \n",
       "2     Afghanistan  1992   789.0       703.0    131.0      0.0   478.0   0.0   \n",
       "3     Afghanistan  1993   780.0       695.0    130.0      0.0   475.0   0.0   \n",
       "4     Afghanistan  1994   770.0       687.0    128.0      0.0   472.0   0.0   \n",
       "...           ...   ...     ...         ...      ...      ...     ...   ...   \n",
       "5563     Zimbabwe  2010  9317.3      8602.9   1681.7    694.4  5762.8   0.0   \n",
       "5564     Zimbabwe  2011  9645.5      9177.2   1578.7    988.2  5201.8   0.0   \n",
       "5565     Zimbabwe  2012  9425.2      9148.6   1076.1    700.9  5387.3   0.0   \n",
       "5566     Zimbabwe  2013  9919.7      9498.8   1722.0   1189.3  4981.8   0.0   \n",
       "5567     Zimbabwe  2014  9740.0     10023.0   1127.0   1226.0  5431.0   0.0   \n",
       "\n",
       "      solar  geothermal  tide  renewable_percent  \n",
       "0       0.0         0.0   0.0           0.677305  \n",
       "1       0.0         0.0   0.0           0.679803  \n",
       "2       0.0         0.0   0.0           0.679943  \n",
       "3       0.0         0.0   0.0           0.683453  \n",
       "4       0.0         0.0   0.0           0.687045  \n",
       "...     ...         ...   ...                ...  \n",
       "5563    0.0         0.0   0.0           0.669867  \n",
       "5564    0.0         0.0   0.0           0.566818  \n",
       "5565    0.0         0.0   0.0           0.588866  \n",
       "5566    0.0         0.0   0.0           0.524466  \n",
       "5567    0.0         0.0   0.0           0.541854  \n",
       "\n",
       "[5568 rows x 12 columns]"
      ]
     },
     "execution_count": 24,
     "metadata": {},
     "output_type": "execute_result"
    }
   ],
   "source": [
    "# replace the `na` values with 0\n",
    "df_countries = df_countries.fillna(0)\n",
    "\n",
    "# sum all renewable energy production sources and divide by the total energy production\n",
    "df_countries[\"renewable_percent\"] = (\n",
    "    df_countries[\"hydro\"]\n",
    "    + df_countries[\"wind\"]\n",
    "    + df_countries[\"solar\"]\n",
    "    + df_countries[\"geothermal\"]\n",
    "    + df_countries[\"tide\"]\n",
    ") / df_countries['production']\n",
    "df_countries"
   ]
  },
  {
   "cell_type": "markdown",
   "metadata": {},
   "source": [
    "Considerando solo el año más reciente del que tenemos datos (2014), **¿qué 5 países produjeron la mayor proporción de su energía a través de renovables, y qué 5 países produjeron la menor proporción de su energía a través de renovables?**\n"
   ]
  },
  {
   "cell_type": "code",
   "execution_count": 25,
   "metadata": {},
   "outputs": [
    {
     "data": {
      "text/html": [
       "<div>\n",
       "<style scoped>\n",
       "    .dataframe tbody tr th:only-of-type {\n",
       "        vertical-align: middle;\n",
       "    }\n",
       "\n",
       "    .dataframe tbody tr th {\n",
       "        vertical-align: top;\n",
       "    }\n",
       "\n",
       "    .dataframe thead th {\n",
       "        text-align: right;\n",
       "    }\n",
       "</style>\n",
       "<table border=\"1\" class=\"dataframe\">\n",
       "  <thead>\n",
       "    <tr style=\"text-align: right;\">\n",
       "      <th></th>\n",
       "      <th>country</th>\n",
       "      <th>year</th>\n",
       "      <th>demand</th>\n",
       "      <th>production</th>\n",
       "      <th>imports</th>\n",
       "      <th>exports</th>\n",
       "      <th>hydro</th>\n",
       "      <th>wind</th>\n",
       "      <th>solar</th>\n",
       "      <th>geothermal</th>\n",
       "      <th>tide</th>\n",
       "      <th>renewable_percent</th>\n",
       "    </tr>\n",
       "  </thead>\n",
       "  <tbody>\n",
       "    <tr>\n",
       "      <th>2891</th>\n",
       "      <td>Lesotho</td>\n",
       "      <td>2014</td>\n",
       "      <td>783.48</td>\n",
       "      <td>515.20</td>\n",
       "      <td>271.20</td>\n",
       "      <td>2.92</td>\n",
       "      <td>515.20</td>\n",
       "      <td>0.0</td>\n",
       "      <td>0.0</td>\n",
       "      <td>0.0</td>\n",
       "      <td>0.0</td>\n",
       "      <td>1.000000</td>\n",
       "    </tr>\n",
       "    <tr>\n",
       "      <th>49</th>\n",
       "      <td>Albania</td>\n",
       "      <td>2014</td>\n",
       "      <td>7791.43</td>\n",
       "      <td>4724.43</td>\n",
       "      <td>3250.45</td>\n",
       "      <td>183.45</td>\n",
       "      <td>4724.43</td>\n",
       "      <td>0.0</td>\n",
       "      <td>0.0</td>\n",
       "      <td>0.0</td>\n",
       "      <td>0.0</td>\n",
       "      <td>1.000000</td>\n",
       "    </tr>\n",
       "    <tr>\n",
       "      <th>611</th>\n",
       "      <td>Bhutan</td>\n",
       "      <td>2014</td>\n",
       "      <td>2085.46</td>\n",
       "      <td>7003.86</td>\n",
       "      <td>187.37</td>\n",
       "      <td>4991.90</td>\n",
       "      <td>7003.36</td>\n",
       "      <td>0.0</td>\n",
       "      <td>0.0</td>\n",
       "      <td>0.0</td>\n",
       "      <td>0.0</td>\n",
       "      <td>0.999929</td>\n",
       "    </tr>\n",
       "    <tr>\n",
       "      <th>3948</th>\n",
       "      <td>Paraguay</td>\n",
       "      <td>2014</td>\n",
       "      <td>13432.00</td>\n",
       "      <td>55282.30</td>\n",
       "      <td>0.00</td>\n",
       "      <td>41400.10</td>\n",
       "      <td>55276.40</td>\n",
       "      <td>0.0</td>\n",
       "      <td>0.0</td>\n",
       "      <td>0.0</td>\n",
       "      <td>0.0</td>\n",
       "      <td>0.999893</td>\n",
       "    </tr>\n",
       "    <tr>\n",
       "      <th>2328</th>\n",
       "      <td>Iceland</td>\n",
       "      <td>2014</td>\n",
       "      <td>17475.00</td>\n",
       "      <td>18122.00</td>\n",
       "      <td>0.00</td>\n",
       "      <td>0.00</td>\n",
       "      <td>12873.00</td>\n",
       "      <td>8.0</td>\n",
       "      <td>0.0</td>\n",
       "      <td>5238.0</td>\n",
       "      <td>0.0</td>\n",
       "      <td>0.999834</td>\n",
       "    </tr>\n",
       "  </tbody>\n",
       "</table>\n",
       "</div>"
      ],
      "text/plain": [
       "       country  year    demand  production  imports   exports     hydro  wind  \\\n",
       "2891   Lesotho  2014    783.48      515.20   271.20      2.92    515.20   0.0   \n",
       "49     Albania  2014   7791.43     4724.43  3250.45    183.45   4724.43   0.0   \n",
       "611     Bhutan  2014   2085.46     7003.86   187.37   4991.90   7003.36   0.0   \n",
       "3948  Paraguay  2014  13432.00    55282.30     0.00  41400.10  55276.40   0.0   \n",
       "2328   Iceland  2014  17475.00    18122.00     0.00      0.00  12873.00   8.0   \n",
       "\n",
       "      solar  geothermal  tide  renewable_percent  \n",
       "2891    0.0         0.0   0.0           1.000000  \n",
       "49      0.0         0.0   0.0           1.000000  \n",
       "611     0.0         0.0   0.0           0.999929  \n",
       "3948    0.0         0.0   0.0           0.999893  \n",
       "2328    0.0      5238.0   0.0           0.999834  "
      ]
     },
     "execution_count": 25,
     "metadata": {},
     "output_type": "execute_result"
    }
   ],
   "source": [
    "# filter the dataframe by year to get only 2014 and then sort by renewable percent and take the top 5\n",
    "df_countries[(df_countries[\"year\"] == 2014)].sort_values(\n",
    "    by=\"renewable_percent\", ascending=False\n",
    ").head(5)"
   ]
  },
  {
   "cell_type": "code",
   "execution_count": 26,
   "metadata": {},
   "outputs": [
    {
     "data": {
      "text/plain": [
       "<matplotlib.axes._subplots.AxesSubplot at 0x1bf65e902e0>"
      ]
     },
     "execution_count": 26,
     "metadata": {},
     "output_type": "execute_result"
    },
    {
     "data": {
      "image/png": "[encoded data removed]",
      "text/plain": [
       "<Figure size 432x288 with 1 Axes>"
      ]
     },
     "metadata": {
      "needs_background": "light"
     },
     "output_type": "display_data"
    }
   ],
   "source": [
    "renewable_vars =['hydro','wind','solar','geothermal','tide']\n",
    "df_countries[(df_countries[\"year\"] == 2014)][renewable_vars].boxplot()"
   ]
  },
  {
   "cell_type": "code",
   "execution_count": 27,
   "metadata": {},
   "outputs": [
    {
     "data": {
      "text/html": [
       "<div>\n",
       "<style scoped>\n",
       "    .dataframe tbody tr th:only-of-type {\n",
       "        vertical-align: middle;\n",
       "    }\n",
       "\n",
       "    .dataframe tbody tr th {\n",
       "        vertical-align: top;\n",
       "    }\n",
       "\n",
       "    .dataframe thead th {\n",
       "        text-align: right;\n",
       "    }\n",
       "</style>\n",
       "<table border=\"1\" class=\"dataframe\">\n",
       "  <thead>\n",
       "    <tr style=\"text-align: right;\">\n",
       "      <th></th>\n",
       "      <th>country</th>\n",
       "      <th>year</th>\n",
       "      <th>demand</th>\n",
       "      <th>production</th>\n",
       "      <th>imports</th>\n",
       "      <th>exports</th>\n",
       "      <th>hydro</th>\n",
       "      <th>wind</th>\n",
       "      <th>solar</th>\n",
       "      <th>geothermal</th>\n",
       "      <th>tide</th>\n",
       "      <th>renewable_percent</th>\n",
       "    </tr>\n",
       "  </thead>\n",
       "  <tbody>\n",
       "    <tr>\n",
       "      <th>5053</th>\n",
       "      <td>Trinidad and Tobago</td>\n",
       "      <td>2014</td>\n",
       "      <td>9531.00</td>\n",
       "      <td>9891.00</td>\n",
       "      <td>0.0</td>\n",
       "      <td>0.0</td>\n",
       "      <td>0.0</td>\n",
       "      <td>0.0</td>\n",
       "      <td>0.0</td>\n",
       "      <td>0.0</td>\n",
       "      <td>0.0</td>\n",
       "      <td>0.0</td>\n",
       "    </tr>\n",
       "    <tr>\n",
       "      <th>3873</th>\n",
       "      <td>Palau</td>\n",
       "      <td>2014</td>\n",
       "      <td>73.70</td>\n",
       "      <td>79.00</td>\n",
       "      <td>0.0</td>\n",
       "      <td>0.0</td>\n",
       "      <td>0.0</td>\n",
       "      <td>0.0</td>\n",
       "      <td>0.0</td>\n",
       "      <td>0.0</td>\n",
       "      <td>0.0</td>\n",
       "      <td>0.0</td>\n",
       "    </tr>\n",
       "    <tr>\n",
       "      <th>962</th>\n",
       "      <td>Cayman Islands</td>\n",
       "      <td>2014</td>\n",
       "      <td>620.74</td>\n",
       "      <td>620.74</td>\n",
       "      <td>0.0</td>\n",
       "      <td>0.0</td>\n",
       "      <td>0.0</td>\n",
       "      <td>0.0</td>\n",
       "      <td>0.0</td>\n",
       "      <td>0.0</td>\n",
       "      <td>0.0</td>\n",
       "      <td>0.0</td>\n",
       "    </tr>\n",
       "    <tr>\n",
       "      <th>1012</th>\n",
       "      <td>Chad</td>\n",
       "      <td>2014</td>\n",
       "      <td>206.00</td>\n",
       "      <td>225.00</td>\n",
       "      <td>0.0</td>\n",
       "      <td>0.0</td>\n",
       "      <td>0.0</td>\n",
       "      <td>0.0</td>\n",
       "      <td>0.0</td>\n",
       "      <td>0.0</td>\n",
       "      <td>0.0</td>\n",
       "      <td>0.0</td>\n",
       "    </tr>\n",
       "    <tr>\n",
       "      <th>3798</th>\n",
       "      <td>Oman</td>\n",
       "      <td>2014</td>\n",
       "      <td>28343.00</td>\n",
       "      <td>29128.00</td>\n",
       "      <td>0.0</td>\n",
       "      <td>0.0</td>\n",
       "      <td>0.0</td>\n",
       "      <td>0.0</td>\n",
       "      <td>0.0</td>\n",
       "      <td>0.0</td>\n",
       "      <td>0.0</td>\n",
       "      <td>0.0</td>\n",
       "    </tr>\n",
       "  </tbody>\n",
       "</table>\n",
       "</div>"
      ],
      "text/plain": [
       "                  country  year    demand  production  imports  exports  \\\n",
       "5053  Trinidad and Tobago  2014   9531.00     9891.00      0.0      0.0   \n",
       "3873                Palau  2014     73.70       79.00      0.0      0.0   \n",
       "962        Cayman Islands  2014    620.74      620.74      0.0      0.0   \n",
       "1012                 Chad  2014    206.00      225.00      0.0      0.0   \n",
       "3798                 Oman  2014  28343.00    29128.00      0.0      0.0   \n",
       "\n",
       "      hydro  wind  solar  geothermal  tide  renewable_percent  \n",
       "5053    0.0   0.0    0.0         0.0   0.0                0.0  \n",
       "3873    0.0   0.0    0.0         0.0   0.0                0.0  \n",
       "962     0.0   0.0    0.0         0.0   0.0                0.0  \n",
       "1012    0.0   0.0    0.0         0.0   0.0                0.0  \n",
       "3798    0.0   0.0    0.0         0.0   0.0                0.0  "
      ]
     },
     "execution_count": 27,
     "metadata": {},
     "output_type": "execute_result"
    }
   ],
   "source": [
    "# filter the dataframe by year to get only 2014 and then sort by renewable percent and take the top 5\n",
    "df_countries[(df_countries[\"year\"] == 2014)].sort_values(\n",
    "    by=\"renewable_percent\"\n",
    ").head(5)"
   ]
  },
  {
   "cell_type": "markdown",
   "metadata": {},
   "source": [
    "Very small countries are not particularly representative of the global renewable power situation, so your team asks you to restrict your analysis only to countries that produce a lot of power."
   ]
  },
  {
   "cell_type": "code",
   "execution_count": 28,
   "metadata": {},
   "outputs": [
    {
     "data": {
      "text/html": [
       "<div>\n",
       "<style scoped>\n",
       "    .dataframe tbody tr th:only-of-type {\n",
       "        vertical-align: middle;\n",
       "    }\n",
       "\n",
       "    .dataframe tbody tr th {\n",
       "        vertical-align: top;\n",
       "    }\n",
       "\n",
       "    .dataframe thead th {\n",
       "        text-align: right;\n",
       "    }\n",
       "</style>\n",
       "<table border=\"1\" class=\"dataframe\">\n",
       "  <thead>\n",
       "    <tr style=\"text-align: right;\">\n",
       "      <th></th>\n",
       "      <th>country</th>\n",
       "      <th>year</th>\n",
       "      <th>demand</th>\n",
       "      <th>production</th>\n",
       "      <th>imports</th>\n",
       "      <th>exports</th>\n",
       "      <th>hydro</th>\n",
       "      <th>wind</th>\n",
       "      <th>solar</th>\n",
       "      <th>geothermal</th>\n",
       "      <th>tide</th>\n",
       "      <th>renewable_percent</th>\n",
       "    </tr>\n",
       "  </thead>\n",
       "  <tbody>\n",
       "    <tr>\n",
       "      <th>3773</th>\n",
       "      <td>Norway</td>\n",
       "      <td>2014</td>\n",
       "      <td>124139.0</td>\n",
       "      <td>142327.0</td>\n",
       "      <td>6347.0</td>\n",
       "      <td>21932.0</td>\n",
       "      <td>136636.0</td>\n",
       "      <td>2216.0</td>\n",
       "      <td>0.0</td>\n",
       "      <td>0.0</td>\n",
       "      <td>0.0</td>\n",
       "      <td>0.975584</td>\n",
       "    </tr>\n",
       "    <tr>\n",
       "      <th>712</th>\n",
       "      <td>Brazil</td>\n",
       "      <td>2014</td>\n",
       "      <td>615629.0</td>\n",
       "      <td>590541.0</td>\n",
       "      <td>33778.0</td>\n",
       "      <td>3.0</td>\n",
       "      <td>373439.0</td>\n",
       "      <td>12211.0</td>\n",
       "      <td>16.0</td>\n",
       "      <td>0.0</td>\n",
       "      <td>0.0</td>\n",
       "      <td>0.653072</td>\n",
       "    </tr>\n",
       "    <tr>\n",
       "      <th>937</th>\n",
       "      <td>Canada</td>\n",
       "      <td>2014</td>\n",
       "      <td>591137.0</td>\n",
       "      <td>656225.0</td>\n",
       "      <td>12808.0</td>\n",
       "      <td>58421.0</td>\n",
       "      <td>382574.0</td>\n",
       "      <td>22538.0</td>\n",
       "      <td>1756.0</td>\n",
       "      <td>0.0</td>\n",
       "      <td>16.0</td>\n",
       "      <td>0.620037</td>\n",
       "    </tr>\n",
       "    <tr>\n",
       "      <th>4844</th>\n",
       "      <td>Sweden</td>\n",
       "      <td>2014</td>\n",
       "      <td>132375.0</td>\n",
       "      <td>153662.0</td>\n",
       "      <td>13852.0</td>\n",
       "      <td>29475.0</td>\n",
       "      <td>63872.0</td>\n",
       "      <td>11234.0</td>\n",
       "      <td>47.0</td>\n",
       "      <td>0.0</td>\n",
       "      <td>0.0</td>\n",
       "      <td>0.489080</td>\n",
       "    </tr>\n",
       "    <tr>\n",
       "      <th>5474</th>\n",
       "      <td>Viet Nam</td>\n",
       "      <td>2014</td>\n",
       "      <td>141136.0</td>\n",
       "      <td>145730.0</td>\n",
       "      <td>2053.0</td>\n",
       "      <td>880.0</td>\n",
       "      <td>61480.0</td>\n",
       "      <td>300.0</td>\n",
       "      <td>0.0</td>\n",
       "      <td>0.0</td>\n",
       "      <td>0.0</td>\n",
       "      <td>0.423935</td>\n",
       "    </tr>\n",
       "  </tbody>\n",
       "</table>\n",
       "</div>"
      ],
      "text/plain": [
       "       country  year    demand  production  imports  exports     hydro  \\\n",
       "3773    Norway  2014  124139.0    142327.0   6347.0  21932.0  136636.0   \n",
       "712     Brazil  2014  615629.0    590541.0  33778.0      3.0  373439.0   \n",
       "937     Canada  2014  591137.0    656225.0  12808.0  58421.0  382574.0   \n",
       "4844    Sweden  2014  132375.0    153662.0  13852.0  29475.0   63872.0   \n",
       "5474  Viet Nam  2014  141136.0    145730.0   2053.0    880.0   61480.0   \n",
       "\n",
       "         wind   solar  geothermal  tide  renewable_percent  \n",
       "3773   2216.0     0.0         0.0   0.0           0.975584  \n",
       "712   12211.0    16.0         0.0   0.0           0.653072  \n",
       "937   22538.0  1756.0         0.0  16.0           0.620037  \n",
       "4844  11234.0    47.0         0.0   0.0           0.489080  \n",
       "5474    300.0     0.0         0.0   0.0           0.423935  "
      ]
     },
     "execution_count": 28,
     "metadata": {},
     "output_type": "execute_result"
    }
   ],
   "source": [
    "threshold = df_countries[\"production\"].quantile(0.9)\n",
    "df_countries[\n",
    "    (df_countries.production > threshold) & (df_countries.year == 2014)\n",
    "].sort_values(by=\"renewable_percent\", ascending=False).head(5)"
   ]
  },
  {
   "cell_type": "code",
   "execution_count": 29,
   "metadata": {},
   "outputs": [
    {
     "data": {
      "text/plain": [
       "<matplotlib.axes._subplots.AxesSubplot at 0x1bf67fad700>"
      ]
     },
     "execution_count": 29,
     "metadata": {},
     "output_type": "execute_result"
    },
    {
     "data": {
      "image/png": "[encoded data removed]",
      "text/plain": [
       "<Figure size 432x288 with 1 Axes>"
      ]
     },
     "metadata": {
      "needs_background": "light"
     },
     "output_type": "display_data"
    }
   ],
   "source": [
    "import seaborn as sns\n",
    "sns.barplot(data= df_countries[(df_countries.production > threshold) & (df_countries.year == 2014)\n",
    "                              ].sort_values(by=\"renewable_percent\", ascending=False).head(5),\n",
    "            x=\"country\",\n",
    "            y=\"renewable_percent\")"
   ]
  },
  {
   "cell_type": "code",
   "execution_count": 30,
   "metadata": {},
   "outputs": [
    {
     "data": {
      "text/html": [
       "<div>\n",
       "<style scoped>\n",
       "    .dataframe tbody tr th:only-of-type {\n",
       "        vertical-align: middle;\n",
       "    }\n",
       "\n",
       "    .dataframe tbody tr th {\n",
       "        vertical-align: top;\n",
       "    }\n",
       "\n",
       "    .dataframe thead th {\n",
       "        text-align: right;\n",
       "    }\n",
       "</style>\n",
       "<table border=\"1\" class=\"dataframe\">\n",
       "  <thead>\n",
       "    <tr style=\"text-align: right;\">\n",
       "      <th></th>\n",
       "      <th>country</th>\n",
       "      <th>year</th>\n",
       "      <th>demand</th>\n",
       "      <th>production</th>\n",
       "      <th>imports</th>\n",
       "      <th>exports</th>\n",
       "      <th>hydro</th>\n",
       "      <th>wind</th>\n",
       "      <th>solar</th>\n",
       "      <th>geothermal</th>\n",
       "      <th>tide</th>\n",
       "      <th>renewable_percent</th>\n",
       "    </tr>\n",
       "  </thead>\n",
       "  <tbody>\n",
       "    <tr>\n",
       "      <th>4294</th>\n",
       "      <td>Saudi Arabia</td>\n",
       "      <td>2014</td>\n",
       "      <td>304240.0</td>\n",
       "      <td>311806.0</td>\n",
       "      <td>0.0</td>\n",
       "      <td>0.0</td>\n",
       "      <td>0.0</td>\n",
       "      <td>0.0</td>\n",
       "      <td>1.0</td>\n",
       "      <td>0.0</td>\n",
       "      <td>0.0</td>\n",
       "      <td>0.000003</td>\n",
       "    </tr>\n",
       "    <tr>\n",
       "      <th>2745</th>\n",
       "      <td>Korea, Republic of</td>\n",
       "      <td>2014</td>\n",
       "      <td>523363.0</td>\n",
       "      <td>550933.0</td>\n",
       "      <td>0.0</td>\n",
       "      <td>0.0</td>\n",
       "      <td>7820.0</td>\n",
       "      <td>1146.0</td>\n",
       "      <td>2557.0</td>\n",
       "      <td>0.0</td>\n",
       "      <td>492.0</td>\n",
       "      <td>0.021808</td>\n",
       "    </tr>\n",
       "    <tr>\n",
       "      <th>4541</th>\n",
       "      <td>South Africa</td>\n",
       "      <td>2014</td>\n",
       "      <td>231445.0</td>\n",
       "      <td>252578.0</td>\n",
       "      <td>11177.0</td>\n",
       "      <td>13836.0</td>\n",
       "      <td>4082.0</td>\n",
       "      <td>1070.0</td>\n",
       "      <td>1120.0</td>\n",
       "      <td>0.0</td>\n",
       "      <td>0.0</td>\n",
       "      <td>0.024832</td>\n",
       "    </tr>\n",
       "    <tr>\n",
       "      <th>3823</th>\n",
       "      <td>Other Asia</td>\n",
       "      <td>2014</td>\n",
       "      <td>244755.0</td>\n",
       "      <td>260025.0</td>\n",
       "      <td>0.0</td>\n",
       "      <td>0.0</td>\n",
       "      <td>7439.0</td>\n",
       "      <td>1500.0</td>\n",
       "      <td>552.0</td>\n",
       "      <td>0.0</td>\n",
       "      <td>0.0</td>\n",
       "      <td>0.036500</td>\n",
       "    </tr>\n",
       "    <tr>\n",
       "      <th>4965</th>\n",
       "      <td>Thailand</td>\n",
       "      <td>2014</td>\n",
       "      <td>179330.0</td>\n",
       "      <td>180862.0</td>\n",
       "      <td>12260.0</td>\n",
       "      <td>2066.0</td>\n",
       "      <td>5540.0</td>\n",
       "      <td>305.0</td>\n",
       "      <td>1385.0</td>\n",
       "      <td>1.0</td>\n",
       "      <td>0.0</td>\n",
       "      <td>0.039981</td>\n",
       "    </tr>\n",
       "  </tbody>\n",
       "</table>\n",
       "</div>"
      ],
      "text/plain": [
       "                 country  year    demand  production  imports  exports  \\\n",
       "4294        Saudi Arabia  2014  304240.0    311806.0      0.0      0.0   \n",
       "2745  Korea, Republic of  2014  523363.0    550933.0      0.0      0.0   \n",
       "4541        South Africa  2014  231445.0    252578.0  11177.0  13836.0   \n",
       "3823          Other Asia  2014  244755.0    260025.0      0.0      0.0   \n",
       "4965            Thailand  2014  179330.0    180862.0  12260.0   2066.0   \n",
       "\n",
       "       hydro    wind   solar  geothermal   tide  renewable_percent  \n",
       "4294     0.0     0.0     1.0         0.0    0.0           0.000003  \n",
       "2745  7820.0  1146.0  2557.0         0.0  492.0           0.021808  \n",
       "4541  4082.0  1070.0  1120.0         0.0    0.0           0.024832  \n",
       "3823  7439.0  1500.0   552.0         0.0    0.0           0.036500  \n",
       "4965  5540.0   305.0  1385.0         1.0    0.0           0.039981  "
      ]
     },
     "execution_count": 30,
     "metadata": {},
     "output_type": "execute_result"
    }
   ],
   "source": [
    "df_countries[\n",
    "    (df_countries.production > threshold) & (df_countries.year == 2014)\n",
    "].sort_values(by=\"renewable_percent\").head(5)"
   ]
  },
  {
   "cell_type": "markdown",
   "metadata": {},
   "source": [
    "Podemos preguntarnos, ¿cómo ha aumentado la producción total de energía a traves de los años?"
   ]
  },
  {
   "cell_type": "code",
   "execution_count": 31,
   "metadata": {},
   "outputs": [
    {
     "data": {
      "text/html": [
       "<div>\n",
       "<style scoped>\n",
       "    .dataframe tbody tr th:only-of-type {\n",
       "        vertical-align: middle;\n",
       "    }\n",
       "\n",
       "    .dataframe tbody tr th {\n",
       "        vertical-align: top;\n",
       "    }\n",
       "\n",
       "    .dataframe thead th {\n",
       "        text-align: right;\n",
       "    }\n",
       "</style>\n",
       "<table border=\"1\" class=\"dataframe\">\n",
       "  <thead>\n",
       "    <tr style=\"text-align: right;\">\n",
       "      <th></th>\n",
       "      <th>year</th>\n",
       "      <th>hydro</th>\n",
       "      <th>wind</th>\n",
       "      <th>solar</th>\n",
       "      <th>geothermal</th>\n",
       "      <th>tide</th>\n",
       "      <th>production</th>\n",
       "    </tr>\n",
       "  </thead>\n",
       "  <tbody>\n",
       "    <tr>\n",
       "      <th>0</th>\n",
       "      <td>1990</td>\n",
       "      <td>2.190662e+06</td>\n",
       "      <td>3850.000000</td>\n",
       "      <td>681.000000</td>\n",
       "      <td>36456.000000</td>\n",
       "      <td>529.0</td>\n",
       "      <td>1.194777e+07</td>\n",
       "    </tr>\n",
       "    <tr>\n",
       "      <th>1</th>\n",
       "      <td>1991</td>\n",
       "      <td>2.257412e+06</td>\n",
       "      <td>4187.000000</td>\n",
       "      <td>804.000000</td>\n",
       "      <td>37464.000000</td>\n",
       "      <td>549.0</td>\n",
       "      <td>1.219341e+07</td>\n",
       "    </tr>\n",
       "    <tr>\n",
       "      <th>2</th>\n",
       "      <td>1992</td>\n",
       "      <td>2.267823e+06</td>\n",
       "      <td>4587.000000</td>\n",
       "      <td>803.000000</td>\n",
       "      <td>38749.000000</td>\n",
       "      <td>549.0</td>\n",
       "      <td>1.227358e+07</td>\n",
       "    </tr>\n",
       "    <tr>\n",
       "      <th>3</th>\n",
       "      <td>1993</td>\n",
       "      <td>2.405989e+06</td>\n",
       "      <td>5537.423000</td>\n",
       "      <td>978.000000</td>\n",
       "      <td>39849.000000</td>\n",
       "      <td>527.0</td>\n",
       "      <td>1.257487e+07</td>\n",
       "    </tr>\n",
       "    <tr>\n",
       "      <th>4</th>\n",
       "      <td>1994</td>\n",
       "      <td>2.424477e+06</td>\n",
       "      <td>7244.400000</td>\n",
       "      <td>923.000000</td>\n",
       "      <td>40655.000000</td>\n",
       "      <td>534.0</td>\n",
       "      <td>1.288611e+07</td>\n",
       "    </tr>\n",
       "    <tr>\n",
       "      <th>5</th>\n",
       "      <td>1995</td>\n",
       "      <td>2.549410e+06</td>\n",
       "      <td>7854.300000</td>\n",
       "      <td>971.000000</td>\n",
       "      <td>39946.000000</td>\n",
       "      <td>540.0</td>\n",
       "      <td>1.332475e+07</td>\n",
       "    </tr>\n",
       "    <tr>\n",
       "      <th>6</th>\n",
       "      <td>1996</td>\n",
       "      <td>2.589198e+06</td>\n",
       "      <td>9327.100000</td>\n",
       "      <td>1077.000000</td>\n",
       "      <td>42278.000000</td>\n",
       "      <td>523.0</td>\n",
       "      <td>1.375331e+07</td>\n",
       "    </tr>\n",
       "    <tr>\n",
       "      <th>7</th>\n",
       "      <td>1997</td>\n",
       "      <td>2.621350e+06</td>\n",
       "      <td>11788.200000</td>\n",
       "      <td>1173.774000</td>\n",
       "      <td>42528.000000</td>\n",
       "      <td>542.0</td>\n",
       "      <td>1.404259e+07</td>\n",
       "    </tr>\n",
       "    <tr>\n",
       "      <th>8</th>\n",
       "      <td>1998</td>\n",
       "      <td>2.630633e+06</td>\n",
       "      <td>15693.000000</td>\n",
       "      <td>1166.805000</td>\n",
       "      <td>45221.300000</td>\n",
       "      <td>554.0</td>\n",
       "      <td>1.437060e+07</td>\n",
       "    </tr>\n",
       "    <tr>\n",
       "      <th>9</th>\n",
       "      <td>1999</td>\n",
       "      <td>2.641892e+06</td>\n",
       "      <td>21363.100000</td>\n",
       "      <td>1077.491000</td>\n",
       "      <td>48563.500000</td>\n",
       "      <td>547.0</td>\n",
       "      <td>1.480123e+07</td>\n",
       "    </tr>\n",
       "    <tr>\n",
       "      <th>10</th>\n",
       "      <td>2000</td>\n",
       "      <td>2.706534e+06</td>\n",
       "      <td>30747.600000</td>\n",
       "      <td>1473.907000</td>\n",
       "      <td>49670.600000</td>\n",
       "      <td>539.0</td>\n",
       "      <td>1.549609e+07</td>\n",
       "    </tr>\n",
       "    <tr>\n",
       "      <th>11</th>\n",
       "      <td>2001</td>\n",
       "      <td>2.638430e+06</td>\n",
       "      <td>37401.230000</td>\n",
       "      <td>1766.023000</td>\n",
       "      <td>51459.500000</td>\n",
       "      <td>517.0</td>\n",
       "      <td>1.559799e+07</td>\n",
       "    </tr>\n",
       "    <tr>\n",
       "      <th>12</th>\n",
       "      <td>2002</td>\n",
       "      <td>2.709703e+06</td>\n",
       "      <td>51701.566000</td>\n",
       "      <td>2134.385000</td>\n",
       "      <td>52187.600000</td>\n",
       "      <td>526.0</td>\n",
       "      <td>1.621515e+07</td>\n",
       "    </tr>\n",
       "    <tr>\n",
       "      <th>13</th>\n",
       "      <td>2003</td>\n",
       "      <td>2.723595e+06</td>\n",
       "      <td>62907.126000</td>\n",
       "      <td>2554.646000</td>\n",
       "      <td>53796.600000</td>\n",
       "      <td>523.0</td>\n",
       "      <td>1.681214e+07</td>\n",
       "    </tr>\n",
       "    <tr>\n",
       "      <th>14</th>\n",
       "      <td>2004</td>\n",
       "      <td>2.894647e+06</td>\n",
       "      <td>82576.886000</td>\n",
       "      <td>3254.064000</td>\n",
       "      <td>56078.200000</td>\n",
       "      <td>501.0</td>\n",
       "      <td>1.759385e+07</td>\n",
       "    </tr>\n",
       "    <tr>\n",
       "      <th>15</th>\n",
       "      <td>2005</td>\n",
       "      <td>3.015924e+06</td>\n",
       "      <td>101442.197111</td>\n",
       "      <td>4478.636222</td>\n",
       "      <td>58324.433333</td>\n",
       "      <td>509.0</td>\n",
       "      <td>1.835909e+07</td>\n",
       "    </tr>\n",
       "    <tr>\n",
       "      <th>16</th>\n",
       "      <td>2006</td>\n",
       "      <td>3.125419e+06</td>\n",
       "      <td>128596.343222</td>\n",
       "      <td>6023.081778</td>\n",
       "      <td>59792.288889</td>\n",
       "      <td>483.0</td>\n",
       "      <td>1.907242e+07</td>\n",
       "    </tr>\n",
       "    <tr>\n",
       "      <th>17</th>\n",
       "      <td>2007</td>\n",
       "      <td>3.158843e+06</td>\n",
       "      <td>164564.641011</td>\n",
       "      <td>7990.594178</td>\n",
       "      <td>62617.118955</td>\n",
       "      <td>488.0</td>\n",
       "      <td>1.990511e+07</td>\n",
       "    </tr>\n",
       "    <tr>\n",
       "      <th>18</th>\n",
       "      <td>2008</td>\n",
       "      <td>3.287647e+06</td>\n",
       "      <td>205524.123700</td>\n",
       "      <td>12586.531978</td>\n",
       "      <td>65092.643589</td>\n",
       "      <td>480.0</td>\n",
       "      <td>2.023048e+07</td>\n",
       "    </tr>\n",
       "    <tr>\n",
       "      <th>19</th>\n",
       "      <td>2009</td>\n",
       "      <td>3.334493e+06</td>\n",
       "      <td>249766.501333</td>\n",
       "      <td>20593.136778</td>\n",
       "      <td>67341.638889</td>\n",
       "      <td>479.0</td>\n",
       "      <td>2.021475e+07</td>\n",
       "    </tr>\n",
       "    <tr>\n",
       "      <th>20</th>\n",
       "      <td>2010</td>\n",
       "      <td>3.523506e+06</td>\n",
       "      <td>340349.830000</td>\n",
       "      <td>33179.670277</td>\n",
       "      <td>68461.280555</td>\n",
       "      <td>506.0</td>\n",
       "      <td>2.155237e+07</td>\n",
       "    </tr>\n",
       "    <tr>\n",
       "      <th>21</th>\n",
       "      <td>2011</td>\n",
       "      <td>3.552328e+06</td>\n",
       "      <td>434319.289000</td>\n",
       "      <td>62836.327167</td>\n",
       "      <td>69570.541667</td>\n",
       "      <td>504.0</td>\n",
       "      <td>2.217373e+07</td>\n",
       "    </tr>\n",
       "    <tr>\n",
       "      <th>22</th>\n",
       "      <td>2012</td>\n",
       "      <td>3.741121e+06</td>\n",
       "      <td>521799.600333</td>\n",
       "      <td>94721.334667</td>\n",
       "      <td>70483.450000</td>\n",
       "      <td>489.0</td>\n",
       "      <td>2.268164e+07</td>\n",
       "    </tr>\n",
       "    <tr>\n",
       "      <th>23</th>\n",
       "      <td>2013</td>\n",
       "      <td>3.877281e+06</td>\n",
       "      <td>645869.824000</td>\n",
       "      <td>136536.710667</td>\n",
       "      <td>71782.800000</td>\n",
       "      <td>919.0</td>\n",
       "      <td>2.345335e+07</td>\n",
       "    </tr>\n",
       "    <tr>\n",
       "      <th>24</th>\n",
       "      <td>2014</td>\n",
       "      <td>3.979941e+06</td>\n",
       "      <td>707052.333000</td>\n",
       "      <td>184113.429667</td>\n",
       "      <td>76565.500000</td>\n",
       "      <td>991.0</td>\n",
       "      <td>2.390623e+07</td>\n",
       "    </tr>\n",
       "  </tbody>\n",
       "</table>\n",
       "</div>"
      ],
      "text/plain": [
       "    year         hydro           wind          solar    geothermal   tide  \\\n",
       "0   1990  2.190662e+06    3850.000000     681.000000  36456.000000  529.0   \n",
       "1   1991  2.257412e+06    4187.000000     804.000000  37464.000000  549.0   \n",
       "2   1992  2.267823e+06    4587.000000     803.000000  38749.000000  549.0   \n",
       "3   1993  2.405989e+06    5537.423000     978.000000  39849.000000  527.0   \n",
       "4   1994  2.424477e+06    7244.400000     923.000000  40655.000000  534.0   \n",
       "5   1995  2.549410e+06    7854.300000     971.000000  39946.000000  540.0   \n",
       "6   1996  2.589198e+06    9327.100000    1077.000000  42278.000000  523.0   \n",
       "7   1997  2.621350e+06   11788.200000    1173.774000  42528.000000  542.0   \n",
       "8   1998  2.630633e+06   15693.000000    1166.805000  45221.300000  554.0   \n",
       "9   1999  2.641892e+06   21363.100000    1077.491000  48563.500000  547.0   \n",
       "10  2000  2.706534e+06   30747.600000    1473.907000  49670.600000  539.0   \n",
       "11  2001  2.638430e+06   37401.230000    1766.023000  51459.500000  517.0   \n",
       "12  2002  2.709703e+06   51701.566000    2134.385000  52187.600000  526.0   \n",
       "13  2003  2.723595e+06   62907.126000    2554.646000  53796.600000  523.0   \n",
       "14  2004  2.894647e+06   82576.886000    3254.064000  56078.200000  501.0   \n",
       "15  2005  3.015924e+06  101442.197111    4478.636222  58324.433333  509.0   \n",
       "16  2006  3.125419e+06  128596.343222    6023.081778  59792.288889  483.0   \n",
       "17  2007  3.158843e+06  164564.641011    7990.594178  62617.118955  488.0   \n",
       "18  2008  3.287647e+06  205524.123700   12586.531978  65092.643589  480.0   \n",
       "19  2009  3.334493e+06  249766.501333   20593.136778  67341.638889  479.0   \n",
       "20  2010  3.523506e+06  340349.830000   33179.670277  68461.280555  506.0   \n",
       "21  2011  3.552328e+06  434319.289000   62836.327167  69570.541667  504.0   \n",
       "22  2012  3.741121e+06  521799.600333   94721.334667  70483.450000  489.0   \n",
       "23  2013  3.877281e+06  645869.824000  136536.710667  71782.800000  919.0   \n",
       "24  2014  3.979941e+06  707052.333000  184113.429667  76565.500000  991.0   \n",
       "\n",
       "      production  \n",
       "0   1.194777e+07  \n",
       "1   1.219341e+07  \n",
       "2   1.227358e+07  \n",
       "3   1.257487e+07  \n",
       "4   1.288611e+07  \n",
       "5   1.332475e+07  \n",
       "6   1.375331e+07  \n",
       "7   1.404259e+07  \n",
       "8   1.437060e+07  \n",
       "9   1.480123e+07  \n",
       "10  1.549609e+07  \n",
       "11  1.559799e+07  \n",
       "12  1.621515e+07  \n",
       "13  1.681214e+07  \n",
       "14  1.759385e+07  \n",
       "15  1.835909e+07  \n",
       "16  1.907242e+07  \n",
       "17  1.990511e+07  \n",
       "18  2.023048e+07  \n",
       "19  2.021475e+07  \n",
       "20  2.155237e+07  \n",
       "21  2.217373e+07  \n",
       "22  2.268164e+07  \n",
       "23  2.345335e+07  \n",
       "24  2.390623e+07  "
      ]
     },
     "execution_count": 31,
     "metadata": {},
     "output_type": "execute_result"
    }
   ],
   "source": [
    "df_años = df_countries.groupby(\"year\")[renewable_vars+['production']].sum().reset_index()\n",
    "df_años"
   ]
  },
  {
   "cell_type": "code",
   "execution_count": 69,
   "metadata": {},
   "outputs": [
    {
     "data": {
      "text/plain": [
       "<matplotlib.axes._subplots.AxesSubplot at 0x1e7a1a07a90>"
      ]
     },
     "execution_count": 69,
     "metadata": {},
     "output_type": "execute_result"
    },
    {
     "data": {
      "image/png": "[encoded data removed]",
      "text/plain": [
       "<Figure size 432x288 with 1 Axes>"
      ]
     },
     "metadata": {
      "needs_background": "light"
     },
     "output_type": "display_data"
    }
   ],
   "source": [
    "sns.lineplot(data=df_años, x=\"year\",y=\"production\")"
   ]
  },
  {
   "cell_type": "markdown",
   "metadata": {},
   "source": [
    "## Referencias\n",
    "* 1) https://www.sfu.ca/~mjbrydon/tutorials/BAinPy/02_data.html\n",
    "* 2) https://medium.com/analytics-vidhya/introduction-to-python-for-data-science-fde60c2f1327\n",
    "* 3) Data sciense for all, MinTic"
   ]
  },
  {
   "cell_type": "code",
   "execution_count": null,
   "metadata": {},
   "outputs": [],
   "source": []
  }
 ],
 "metadata": {
  "kernelspec": {
   "display_name": "Python 3",
   "language": "python",
   "name": "python3"
  },
  "language_info": {
   "codemirror_mode": {
    "name": "ipython",
    "version": 3
   },
   "file_extension": ".py",
   "mimetype": "text/x-python",
   "name": "python",
   "nbconvert_exporter": "python",
   "pygments_lexer": "ipython3",
   "version": "3.8.3"
  }
 },
 "nbformat": 4,
 "nbformat_minor": 4
}
